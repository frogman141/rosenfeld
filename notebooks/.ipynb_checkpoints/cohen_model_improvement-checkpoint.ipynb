{
 "cells": [
  {
   "cell_type": "code",
   "execution_count": 1,
   "metadata": {
    "collapsed": true
   },
   "outputs": [],
   "source": [
    "# importing dependencies\n",
    "import re\n",
    "import plotly \n",
    "import numpy as np\n",
    "import pandas as pd\n",
    "import itertools\n",
    "import numpy as np\n",
    "from statistics import median\n",
    "import matplotlib.pyplot as plt\n",
    "import seaborn as sns\n",
    "from sklearn.metrics import confusion_matrix\n",
    "from sklearn.preprocessing import LabelEncoder\n",
    "from sklearn.preprocessing import StandardScaler\n",
    "from sklearn.model_selection import cross_validate\n",
    "from sklearn.model_selection import cross_val_predict\n",
    "\n",
    "# Importing all of the models I am going to try and improve cancer detection\n",
    "from sklearn.tree import DecisionTreeClassifier\n",
    "from sklearn.ensemble import RandomForestClassifier\n",
    "from sklearn.svm import LinearSVC, NuSVC, SVC\n",
    "from sklearn.neural_network import MLPClassifier\n",
    "from sklearn.linear_model import LogisticRegression, Perceptron, SGDClassifier"
   ]
  },
  {
   "cell_type": "code",
   "execution_count": 2,
   "metadata": {
    "collapsed": true
   },
   "outputs": [],
   "source": [
    "# importing relavent data\n",
    "gene_data = pd.read_csv('../data/cohen_S5.csv')\n",
    "protein_data = pd.read_csv('../data/cohen_S6.csv')"
   ]
  },
  {
   "cell_type": "code",
   "execution_count": 3,
   "metadata": {
    "collapsed": true
   },
   "outputs": [],
   "source": [
    "# data processing functions that maybe reused later on\n",
    "def convert_to_numbers(rec):\n",
    "    \"\"\"\n",
    "        Overview: This function is responsible for converting all of the columns that pandas dtypes object. Typically,\n",
    "        these columns are measuring protein concentrations into a float numerical value. This function extracts numbers\n",
    "        via regular expressions and the combines them and convert them into a float data type.\n",
    "    \"\"\"\n",
    "    digit = 0\n",
    "    if type(rec) is str:\n",
    "        pre_decimal = ''\n",
    "        digits = re.findall('\\d+', rec)\n",
    "        for indx, num in enumerate(digits):\n",
    "            if (indx + 1) != len(digits):\n",
    "                pre_decimal = pre_decimal + num\n",
    "            else:\n",
    "                digit = '.'.join([pre_decimal, num])\n",
    "    else:\n",
    "        digit = rec\n",
    "    return float(digit)\n",
    "\n",
    "def conversion(df, skip_col, conv_col, func=convert_to_numbers):\n",
    "    \"\"\"\n",
    "        Overview: This function is responsible for looping through select columns a pandas dataframe for further \n",
    "        processing.\n",
    "    \"\"\"\n",
    "    \n",
    "    for col in conv_col:\n",
    "    \n",
    "        if col in skip_col:\n",
    "            continue\n",
    "\n",
    "        df[col] = df[col].apply(func)\n",
    "\n",
    "    return df"
   ]
  },
  {
   "cell_type": "markdown",
   "metadata": {},
   "source": [
    "# Cleaning and Storing Data\n",
    "\n",
    "In the following sections of code I am preprocessing the raw and caching it back in the raw data files initially loaded. Specifically, I am converting columns that contain numerical but are a string data type into float numerical data types. To do this I am reusing the functions conversion and convert_to_numbers intitial developed the visualiation_of_cohen notebook.\n",
    "\n",
    "\n",
    "## Do not rerun following cells. As I have already cleaned the data. If you do you erase most of the data."
   ]
  },
  {
   "cell_type": "code",
   "execution_count": 9,
   "metadata": {
    "collapsed": true
   },
   "outputs": [],
   "source": [
    "skip_gene_cols = ['Patient ID #', 'Sample ID #', 'Tumor type', 'AJCC Stage',\n",
    "       'Plasma volume (mL)', 'Plasma DNA concentration (ng/mL)',\n",
    "       'Mutation identified in plasma*', 'Ω score',\n",
    "       'Mutant allele frequency (%)',\n",
    "       'CancerSEEK Logistic Regression Score', 'CancerSEEK Test Result']\n",
    "\n",
    "gene_data = conversion(gene_data, skip_gene_cols, [' Mutant fragments/mL plasma'])"
   ]
  },
  {
   "cell_type": "code",
   "execution_count": 61,
   "metadata": {
    "collapsed": true
   },
   "outputs": [],
   "source": [
    "protein_skip_cols = ['Patient ID #', 'Sample ID #', 'Tumor type', 'AJCC Stage', 'AXL (pg/ml)', 'sPECAM-1 (pg/ml)', 'TIMP-2 (pg/ml)', 'CancerSEEK Logistic Regression Score', 'CancerSEEK Test Result']\n",
    "protein_data = conversion(protein_data, protein_skip_cols, protein_data.columns)"
   ]
  },
  {
   "cell_type": "code",
   "execution_count": 10,
   "metadata": {
    "collapsed": true
   },
   "outputs": [],
   "source": [
    "protein_data.to_csv('../data/cohen_S6.csv', index=False)\n",
    "gene_data.to_csv('../data/cohen_S5.csv', index=False)"
   ]
  },
  {
   "cell_type": "markdown",
   "metadata": {},
   "source": [
    "# Data Manipulation and Processing\n",
    "\n",
    "Here is where I begin to merge datasets into a usuable dataframe that can be utilized in model development"
   ]
  },
  {
   "cell_type": "code",
   "execution_count": 4,
   "metadata": {
    "collapsed": true
   },
   "outputs": [],
   "source": [
    "# creating a lable encoder\n",
    "lb_make = LabelEncoder()\n",
    "\n",
    "# merging gene and protein dataframes\n",
    "merged = pd.concat([protein_data, gene_data.iloc[:,4:-2]], axis=1)\n",
    "merged['AJCC Stage'] = merged['AJCC Stage'].fillna('normal')\n",
    "merged = merged.fillna(0)\n",
    "\n",
    "# grab the target names for Mutli-Class Classification models\n",
    "merged[\"Tumor encoded\"] = lb_make.fit_transform(merged['Tumor type'])\n",
    "merged = merged.sort_values(by=['Tumor encoded'])\n",
    "# binning cancers and normal into bins for Binary Classification models \n",
    "y_bin = []\n",
    "for row in merged['AJCC Stage'].values:\n",
    "    if 'normal' in row:\n",
    "        y_bin.append(0)\n",
    "    else:\n",
    "        y_bin.append(1)\n",
    "y_bin = np.array(y_bin)"
   ]
  },
  {
   "cell_type": "code",
   "execution_count": 5,
   "metadata": {
    "collapsed": true
   },
   "outputs": [],
   "source": [
    "# creating reusable functions\n",
    "def feature_extract(df, multi_features, std=False):\n",
    "    \"\"\"\n",
    "        Overview: This function is responsible for extracting the features were modeling with from a source \n",
    "        Pandas Dataframe. This is a achieved by looping through all of the feature lists were extracting from\n",
    "        \n",
    "        Inputs:\n",
    "            - df: a souce pandas dataframe that contains all of the columns of the features parameter\n",
    "            - multi_features: a python list of list that contains a series of columns that are extracted from the df \n",
    "            parameter.\n",
    "            - std: a boolean parameter that tells the function to standardize the data or not\n",
    "        \n",
    "        Ouputs:\n",
    "            - features_df: a pandas dataframe from extracting the features that are being used to develop\n",
    "            models\n",
    "    \"\"\"\n",
    "    all_features_df = []\n",
    "    \n",
    "    for features in multi_features:\n",
    "        if std:\n",
    "            features_df = StandardScaler().fit_transform(df[features])\n",
    "        else:\n",
    "            features_df = df[features]\n",
    "        \n",
    "        all_features_df.append(features_df)\n",
    "\n",
    "    return all_features_df\n",
    "\n",
    "def multi_dataset_training(model, datasets, y_target, cv_iter=10, show_median=False):\n",
    "    \"\"\"\n",
    "        Overview: This function is responsible training multiple versions of the same model with different datasets. \n",
    "        To do this the function loops through a list of datasets (either numpy array or pandas Dataframe) and trains \n",
    "        the model via Cross-Validation. The results of this training is then stored and returned in a python list.\n",
    "        \n",
    "        Inputs:\n",
    "            - model: a Scikit learning model class (i.e. LogisticRegression or Perceptron)\n",
    "            - datasets: a python list of datasets that are either a numpy array or pandas dataframe.\n",
    "            - y_target: a numpy array that contains the records labelled class\n",
    "            - cv_iter: number of times Cross-Validation will iterate.\n",
    "            - show_median: a boolean value that tells the function to print the median test score.\n",
    "        \n",
    "        Ouputs:\n",
    "            - cv_results : a python list of values returned by the Scikit-Learn cross_validate function.\n",
    "    \"\"\"\n",
    "    cv_results = []\n",
    "    for X_data in datasets:\n",
    "        result = cross_validate(model, X_data, y_target, cv=cv_iter, return_train_score=False)\n",
    "        \n",
    "        if show_median:\n",
    "            print (median(result['test_score']))\n",
    "        \n",
    "        cv_results.append(result)\n",
    "    return cv_results"
   ]
  },
  {
   "cell_type": "markdown",
   "metadata": {},
   "source": [
    "# Attempts to improve Cancer Detection via Binary Classification\n",
    "\n",
    "In the following sections of code I am exploring methods of improving model accuracy. These methods include utilizing novel features, standardizing the data, and training different types of models. All of these sections are reusing the functions above and are using Machine Learning models that were imported from the Scikit-Learn Library.\n",
    "\n",
    "**Current Models being trained:**\n",
    "- Logistic Regression\n",
    "- Support Vector Machine\n",
    "- Perceptron\n",
    "- Decision Tree\n",
    "- Random Forest\n",
    "- Multilayer Perceptron (MLP)"
   ]
  },
  {
   "cell_type": "code",
   "execution_count": 7,
   "metadata": {
    "collapsed": true
   },
   "outputs": [],
   "source": [
    "# Creating a serious of dataframes that contain different individual features.\n",
    "# The five dataframes utilizing different data features for model training\n",
    "# created are: base, mutant_frags, dna_cont, mutant_alleles, all\n",
    "base_features = ['CA-125 (U/ml)', 'CEA (pg/ml)', 'CA19-9 (U/ml)', 'Prolactin (pg/ml)', 'HGF (pg/ml)', \n",
    "                  'OPN (pg/ml)', 'Myeloperoxidase (ng/ml)', 'TIMP-1 (pg/ml)', 'Ω score']\n",
    "mutant_frags_features = ['CA-125 (U/ml)', 'CEA (pg/ml)', 'CA19-9 (U/ml)', 'Prolactin (pg/ml)', 'HGF (pg/ml)', \n",
    "                  'OPN (pg/ml)', 'Myeloperoxidase (ng/ml)', 'TIMP-1 (pg/ml)', 'Ω score', ' Mutant fragments/mL plasma']\n",
    "dna_cont_features = ['CA-125 (U/ml)', 'CEA (pg/ml)', 'CA19-9 (U/ml)', 'Prolactin (pg/ml)', 'HGF (pg/ml)', \n",
    "                  'OPN (pg/ml)', 'Myeloperoxidase (ng/ml)', 'TIMP-1 (pg/ml)', 'Ω score', 'Plasma DNA concentration (ng/mL)']\n",
    "mutant_allele_features =  ['CA-125 (U/ml)', 'CEA (pg/ml)', 'CA19-9 (U/ml)', 'Prolactin (pg/ml)', 'HGF (pg/ml)', \n",
    "                  'OPN (pg/ml)', 'Myeloperoxidase (ng/ml)', 'TIMP-1 (pg/ml)', 'Ω score', 'Mutant allele frequency (%)']\n",
    "\n",
    "all_features = ['CA-125 (U/ml)', 'CEA (pg/ml)', 'CA19-9 (U/ml)', 'Prolactin (pg/ml)', 'HGF (pg/ml)', \n",
    "                'OPN (pg/ml)', 'Myeloperoxidase (ng/ml)', 'TIMP-1 (pg/ml)', 'Ω score', ' Mutant fragments/mL plasma', \n",
    "                'Plasma DNA concentration (ng/mL)', 'Mutant allele frequency (%)']\n",
    "\n",
    "cols_to_extract = [base_features, all_features, dna_cont_features, mutant_allele_features, mutant_frags_features]\n",
    "datasets_nonstd = feature_extract(merged, cols_to_extract)\n",
    "datasets_std = feature_extract(merged, cols_to_extract, std=True)"
   ]
  },
  {
   "cell_type": "code",
   "execution_count": 8,
   "metadata": {},
   "outputs": [
    {
     "name": "stdout",
     "output_type": "stream",
     "text": [
      "Training Logistic Regression with standardized data\n",
      "0.8540161495962602\n",
      "0.8595106550907656\n",
      "0.8540161495962602\n",
      "0.8540009714042863\n",
      "0.8540161495962602\n",
      "\n",
      "Training Logistic Regression with non standardized data\n",
      "0.6308511930058891\n",
      "0.6225487219962358\n",
      "0.6170542165017303\n",
      "0.6281039402586364\n",
      "0.6418402039949\n"
     ]
    }
   ],
   "source": [
    "# initializing the base logistic regression model\n",
    "print ('Training Logistic Regression with standardized data')\n",
    "log_reg_std_results = multi_dataset_training(LogisticRegression(), datasets_std, y_bin, show_median=True)\n",
    "print ('\\nTraining Logistic Regression with non standardized data')\n",
    "log_reg_nonstd_results = multi_dataset_training(LogisticRegression(), datasets_nonstd, y_bin, show_median=True)"
   ]
  },
  {
   "cell_type": "code",
   "execution_count": 36,
   "metadata": {},
   "outputs": [
    {
     "name": "stdout",
     "output_type": "stream",
     "text": [
      "Training Precptron with standardized data\n",
      "0.8370165745856353\n",
      "0.8456985003946329\n",
      "0.8539706150203388\n",
      "0.8314917127071824\n",
      "0.8480662983425414\n",
      "\n",
      "Training Precptron with non-standardized data\n"
     ]
    },
    {
     "name": "stderr",
     "output_type": "stream",
     "text": [
      "/Users/alexanderbaker/anaconda3/lib/python3.6/site-packages/sklearn/linear_model/stochastic_gradient.py:128: FutureWarning:\n",
      "\n",
      "max_iter and tol parameters have been added in <class 'sklearn.linear_model.perceptron.Perceptron'> in 0.19. If both are left unset, they default to max_iter=5 and tol=None. If tol is not None, max_iter defaults to max_iter=1000. From 0.21, default max_iter will be 1000, and default tol will be 1e-3.\n",
      "\n",
      "/Users/alexanderbaker/anaconda3/lib/python3.6/site-packages/sklearn/linear_model/stochastic_gradient.py:128: FutureWarning:\n",
      "\n",
      "max_iter and tol parameters have been added in <class 'sklearn.linear_model.perceptron.Perceptron'> in 0.19. If both are left unset, they default to max_iter=5 and tol=None. If tol is not None, max_iter defaults to max_iter=1000. From 0.21, default max_iter will be 1000, and default tol will be 1e-3.\n",
      "\n",
      "/Users/alexanderbaker/anaconda3/lib/python3.6/site-packages/sklearn/linear_model/stochastic_gradient.py:128: FutureWarning:\n",
      "\n",
      "max_iter and tol parameters have been added in <class 'sklearn.linear_model.perceptron.Perceptron'> in 0.19. If both are left unset, they default to max_iter=5 and tol=None. If tol is not None, max_iter defaults to max_iter=1000. From 0.21, default max_iter will be 1000, and default tol will be 1e-3.\n",
      "\n",
      "/Users/alexanderbaker/anaconda3/lib/python3.6/site-packages/sklearn/linear_model/stochastic_gradient.py:128: FutureWarning:\n",
      "\n",
      "max_iter and tol parameters have been added in <class 'sklearn.linear_model.perceptron.Perceptron'> in 0.19. If both are left unset, they default to max_iter=5 and tol=None. If tol is not None, max_iter defaults to max_iter=1000. From 0.21, default max_iter will be 1000, and default tol will be 1e-3.\n",
      "\n",
      "/Users/alexanderbaker/anaconda3/lib/python3.6/site-packages/sklearn/linear_model/stochastic_gradient.py:128: FutureWarning:\n",
      "\n",
      "max_iter and tol parameters have been added in <class 'sklearn.linear_model.perceptron.Perceptron'> in 0.19. If both are left unset, they default to max_iter=5 and tol=None. If tol is not None, max_iter defaults to max_iter=1000. From 0.21, default max_iter will be 1000, and default tol will be 1e-3.\n",
      "\n",
      "/Users/alexanderbaker/anaconda3/lib/python3.6/site-packages/sklearn/linear_model/stochastic_gradient.py:128: FutureWarning:\n",
      "\n",
      "max_iter and tol parameters have been added in <class 'sklearn.linear_model.perceptron.Perceptron'> in 0.19. If both are left unset, they default to max_iter=5 and tol=None. If tol is not None, max_iter defaults to max_iter=1000. From 0.21, default max_iter will be 1000, and default tol will be 1e-3.\n",
      "\n",
      "/Users/alexanderbaker/anaconda3/lib/python3.6/site-packages/sklearn/linear_model/stochastic_gradient.py:128: FutureWarning:\n",
      "\n",
      "max_iter and tol parameters have been added in <class 'sklearn.linear_model.perceptron.Perceptron'> in 0.19. If both are left unset, they default to max_iter=5 and tol=None. If tol is not None, max_iter defaults to max_iter=1000. From 0.21, default max_iter will be 1000, and default tol will be 1e-3.\n",
      "\n",
      "/Users/alexanderbaker/anaconda3/lib/python3.6/site-packages/sklearn/linear_model/stochastic_gradient.py:128: FutureWarning:\n",
      "\n",
      "max_iter and tol parameters have been added in <class 'sklearn.linear_model.perceptron.Perceptron'> in 0.19. If both are left unset, they default to max_iter=5 and tol=None. If tol is not None, max_iter defaults to max_iter=1000. From 0.21, default max_iter will be 1000, and default tol will be 1e-3.\n",
      "\n",
      "/Users/alexanderbaker/anaconda3/lib/python3.6/site-packages/sklearn/linear_model/stochastic_gradient.py:128: FutureWarning:\n",
      "\n",
      "max_iter and tol parameters have been added in <class 'sklearn.linear_model.perceptron.Perceptron'> in 0.19. If both are left unset, they default to max_iter=5 and tol=None. If tol is not None, max_iter defaults to max_iter=1000. From 0.21, default max_iter will be 1000, and default tol will be 1e-3.\n",
      "\n",
      "/Users/alexanderbaker/anaconda3/lib/python3.6/site-packages/sklearn/linear_model/stochastic_gradient.py:128: FutureWarning:\n",
      "\n",
      "max_iter and tol parameters have been added in <class 'sklearn.linear_model.perceptron.Perceptron'> in 0.19. If both are left unset, they default to max_iter=5 and tol=None. If tol is not None, max_iter defaults to max_iter=1000. From 0.21, default max_iter will be 1000, and default tol will be 1e-3.\n",
      "\n",
      "/Users/alexanderbaker/anaconda3/lib/python3.6/site-packages/sklearn/linear_model/stochastic_gradient.py:128: FutureWarning:\n",
      "\n",
      "max_iter and tol parameters have been added in <class 'sklearn.linear_model.perceptron.Perceptron'> in 0.19. If both are left unset, they default to max_iter=5 and tol=None. If tol is not None, max_iter defaults to max_iter=1000. From 0.21, default max_iter will be 1000, and default tol will be 1e-3.\n",
      "\n",
      "/Users/alexanderbaker/anaconda3/lib/python3.6/site-packages/sklearn/linear_model/stochastic_gradient.py:128: FutureWarning:\n",
      "\n",
      "max_iter and tol parameters have been added in <class 'sklearn.linear_model.perceptron.Perceptron'> in 0.19. If both are left unset, they default to max_iter=5 and tol=None. If tol is not None, max_iter defaults to max_iter=1000. From 0.21, default max_iter will be 1000, and default tol will be 1e-3.\n",
      "\n",
      "/Users/alexanderbaker/anaconda3/lib/python3.6/site-packages/sklearn/linear_model/stochastic_gradient.py:128: FutureWarning:\n",
      "\n",
      "max_iter and tol parameters have been added in <class 'sklearn.linear_model.perceptron.Perceptron'> in 0.19. If both are left unset, they default to max_iter=5 and tol=None. If tol is not None, max_iter defaults to max_iter=1000. From 0.21, default max_iter will be 1000, and default tol will be 1e-3.\n",
      "\n",
      "/Users/alexanderbaker/anaconda3/lib/python3.6/site-packages/sklearn/linear_model/stochastic_gradient.py:128: FutureWarning:\n",
      "\n",
      "max_iter and tol parameters have been added in <class 'sklearn.linear_model.perceptron.Perceptron'> in 0.19. If both are left unset, they default to max_iter=5 and tol=None. If tol is not None, max_iter defaults to max_iter=1000. From 0.21, default max_iter will be 1000, and default tol will be 1e-3.\n",
      "\n",
      "/Users/alexanderbaker/anaconda3/lib/python3.6/site-packages/sklearn/linear_model/stochastic_gradient.py:128: FutureWarning:\n",
      "\n",
      "max_iter and tol parameters have been added in <class 'sklearn.linear_model.perceptron.Perceptron'> in 0.19. If both are left unset, they default to max_iter=5 and tol=None. If tol is not None, max_iter defaults to max_iter=1000. From 0.21, default max_iter will be 1000, and default tol will be 1e-3.\n",
      "\n",
      "/Users/alexanderbaker/anaconda3/lib/python3.6/site-packages/sklearn/linear_model/stochastic_gradient.py:128: FutureWarning:\n",
      "\n",
      "max_iter and tol parameters have been added in <class 'sklearn.linear_model.perceptron.Perceptron'> in 0.19. If both are left unset, they default to max_iter=5 and tol=None. If tol is not None, max_iter defaults to max_iter=1000. From 0.21, default max_iter will be 1000, and default tol will be 1e-3.\n",
      "\n",
      "/Users/alexanderbaker/anaconda3/lib/python3.6/site-packages/sklearn/linear_model/stochastic_gradient.py:128: FutureWarning:\n",
      "\n",
      "max_iter and tol parameters have been added in <class 'sklearn.linear_model.perceptron.Perceptron'> in 0.19. If both are left unset, they default to max_iter=5 and tol=None. If tol is not None, max_iter defaults to max_iter=1000. From 0.21, default max_iter will be 1000, and default tol will be 1e-3.\n",
      "\n",
      "/Users/alexanderbaker/anaconda3/lib/python3.6/site-packages/sklearn/linear_model/stochastic_gradient.py:128: FutureWarning:\n",
      "\n",
      "max_iter and tol parameters have been added in <class 'sklearn.linear_model.perceptron.Perceptron'> in 0.19. If both are left unset, they default to max_iter=5 and tol=None. If tol is not None, max_iter defaults to max_iter=1000. From 0.21, default max_iter will be 1000, and default tol will be 1e-3.\n",
      "\n",
      "/Users/alexanderbaker/anaconda3/lib/python3.6/site-packages/sklearn/linear_model/stochastic_gradient.py:128: FutureWarning:\n",
      "\n",
      "max_iter and tol parameters have been added in <class 'sklearn.linear_model.perceptron.Perceptron'> in 0.19. If both are left unset, they default to max_iter=5 and tol=None. If tol is not None, max_iter defaults to max_iter=1000. From 0.21, default max_iter will be 1000, and default tol will be 1e-3.\n",
      "\n",
      "/Users/alexanderbaker/anaconda3/lib/python3.6/site-packages/sklearn/linear_model/stochastic_gradient.py:128: FutureWarning:\n",
      "\n",
      "max_iter and tol parameters have been added in <class 'sklearn.linear_model.perceptron.Perceptron'> in 0.19. If both are left unset, they default to max_iter=5 and tol=None. If tol is not None, max_iter defaults to max_iter=1000. From 0.21, default max_iter will be 1000, and default tol will be 1e-3.\n",
      "\n",
      "/Users/alexanderbaker/anaconda3/lib/python3.6/site-packages/sklearn/linear_model/stochastic_gradient.py:128: FutureWarning:\n",
      "\n",
      "max_iter and tol parameters have been added in <class 'sklearn.linear_model.perceptron.Perceptron'> in 0.19. If both are left unset, they default to max_iter=5 and tol=None. If tol is not None, max_iter defaults to max_iter=1000. From 0.21, default max_iter will be 1000, and default tol will be 1e-3.\n",
      "\n",
      "/Users/alexanderbaker/anaconda3/lib/python3.6/site-packages/sklearn/linear_model/stochastic_gradient.py:128: FutureWarning:\n",
      "\n",
      "max_iter and tol parameters have been added in <class 'sklearn.linear_model.perceptron.Perceptron'> in 0.19. If both are left unset, they default to max_iter=5 and tol=None. If tol is not None, max_iter defaults to max_iter=1000. From 0.21, default max_iter will be 1000, and default tol will be 1e-3.\n",
      "\n",
      "/Users/alexanderbaker/anaconda3/lib/python3.6/site-packages/sklearn/linear_model/stochastic_gradient.py:128: FutureWarning:\n",
      "\n",
      "max_iter and tol parameters have been added in <class 'sklearn.linear_model.perceptron.Perceptron'> in 0.19. If both are left unset, they default to max_iter=5 and tol=None. If tol is not None, max_iter defaults to max_iter=1000. From 0.21, default max_iter will be 1000, and default tol will be 1e-3.\n",
      "\n",
      "/Users/alexanderbaker/anaconda3/lib/python3.6/site-packages/sklearn/linear_model/stochastic_gradient.py:128: FutureWarning:\n",
      "\n",
      "max_iter and tol parameters have been added in <class 'sklearn.linear_model.perceptron.Perceptron'> in 0.19. If both are left unset, they default to max_iter=5 and tol=None. If tol is not None, max_iter defaults to max_iter=1000. From 0.21, default max_iter will be 1000, and default tol will be 1e-3.\n",
      "\n",
      "/Users/alexanderbaker/anaconda3/lib/python3.6/site-packages/sklearn/linear_model/stochastic_gradient.py:128: FutureWarning:\n",
      "\n",
      "max_iter and tol parameters have been added in <class 'sklearn.linear_model.perceptron.Perceptron'> in 0.19. If both are left unset, they default to max_iter=5 and tol=None. If tol is not None, max_iter defaults to max_iter=1000. From 0.21, default max_iter will be 1000, and default tol will be 1e-3.\n",
      "\n",
      "/Users/alexanderbaker/anaconda3/lib/python3.6/site-packages/sklearn/linear_model/stochastic_gradient.py:128: FutureWarning:\n",
      "\n",
      "max_iter and tol parameters have been added in <class 'sklearn.linear_model.perceptron.Perceptron'> in 0.19. If both are left unset, they default to max_iter=5 and tol=None. If tol is not None, max_iter defaults to max_iter=1000. From 0.21, default max_iter will be 1000, and default tol will be 1e-3.\n",
      "\n",
      "/Users/alexanderbaker/anaconda3/lib/python3.6/site-packages/sklearn/linear_model/stochastic_gradient.py:128: FutureWarning:\n",
      "\n",
      "max_iter and tol parameters have been added in <class 'sklearn.linear_model.perceptron.Perceptron'> in 0.19. If both are left unset, they default to max_iter=5 and tol=None. If tol is not None, max_iter defaults to max_iter=1000. From 0.21, default max_iter will be 1000, and default tol will be 1e-3.\n",
      "\n",
      "/Users/alexanderbaker/anaconda3/lib/python3.6/site-packages/sklearn/linear_model/stochastic_gradient.py:128: FutureWarning:\n",
      "\n",
      "max_iter and tol parameters have been added in <class 'sklearn.linear_model.perceptron.Perceptron'> in 0.19. If both are left unset, they default to max_iter=5 and tol=None. If tol is not None, max_iter defaults to max_iter=1000. From 0.21, default max_iter will be 1000, and default tol will be 1e-3.\n",
      "\n",
      "/Users/alexanderbaker/anaconda3/lib/python3.6/site-packages/sklearn/linear_model/stochastic_gradient.py:128: FutureWarning:\n",
      "\n",
      "max_iter and tol parameters have been added in <class 'sklearn.linear_model.perceptron.Perceptron'> in 0.19. If both are left unset, they default to max_iter=5 and tol=None. If tol is not None, max_iter defaults to max_iter=1000. From 0.21, default max_iter will be 1000, and default tol will be 1e-3.\n",
      "\n",
      "/Users/alexanderbaker/anaconda3/lib/python3.6/site-packages/sklearn/linear_model/stochastic_gradient.py:128: FutureWarning:\n",
      "\n",
      "max_iter and tol parameters have been added in <class 'sklearn.linear_model.perceptron.Perceptron'> in 0.19. If both are left unset, they default to max_iter=5 and tol=None. If tol is not None, max_iter defaults to max_iter=1000. From 0.21, default max_iter will be 1000, and default tol will be 1e-3.\n",
      "\n",
      "/Users/alexanderbaker/anaconda3/lib/python3.6/site-packages/sklearn/linear_model/stochastic_gradient.py:128: FutureWarning:\n",
      "\n",
      "max_iter and tol parameters have been added in <class 'sklearn.linear_model.perceptron.Perceptron'> in 0.19. If both are left unset, they default to max_iter=5 and tol=None. If tol is not None, max_iter defaults to max_iter=1000. From 0.21, default max_iter will be 1000, and default tol will be 1e-3.\n",
      "\n",
      "/Users/alexanderbaker/anaconda3/lib/python3.6/site-packages/sklearn/linear_model/stochastic_gradient.py:128: FutureWarning:\n",
      "\n",
      "max_iter and tol parameters have been added in <class 'sklearn.linear_model.perceptron.Perceptron'> in 0.19. If both are left unset, they default to max_iter=5 and tol=None. If tol is not None, max_iter defaults to max_iter=1000. From 0.21, default max_iter will be 1000, and default tol will be 1e-3.\n",
      "\n",
      "/Users/alexanderbaker/anaconda3/lib/python3.6/site-packages/sklearn/linear_model/stochastic_gradient.py:128: FutureWarning:\n",
      "\n",
      "max_iter and tol parameters have been added in <class 'sklearn.linear_model.perceptron.Perceptron'> in 0.19. If both are left unset, they default to max_iter=5 and tol=None. If tol is not None, max_iter defaults to max_iter=1000. From 0.21, default max_iter will be 1000, and default tol will be 1e-3.\n",
      "\n",
      "/Users/alexanderbaker/anaconda3/lib/python3.6/site-packages/sklearn/linear_model/stochastic_gradient.py:128: FutureWarning:\n",
      "\n",
      "max_iter and tol parameters have been added in <class 'sklearn.linear_model.perceptron.Perceptron'> in 0.19. If both are left unset, they default to max_iter=5 and tol=None. If tol is not None, max_iter defaults to max_iter=1000. From 0.21, default max_iter will be 1000, and default tol will be 1e-3.\n",
      "\n",
      "/Users/alexanderbaker/anaconda3/lib/python3.6/site-packages/sklearn/linear_model/stochastic_gradient.py:128: FutureWarning:\n",
      "\n",
      "max_iter and tol parameters have been added in <class 'sklearn.linear_model.perceptron.Perceptron'> in 0.19. If both are left unset, they default to max_iter=5 and tol=None. If tol is not None, max_iter defaults to max_iter=1000. From 0.21, default max_iter will be 1000, and default tol will be 1e-3.\n",
      "\n",
      "/Users/alexanderbaker/anaconda3/lib/python3.6/site-packages/sklearn/linear_model/stochastic_gradient.py:128: FutureWarning:\n",
      "\n",
      "max_iter and tol parameters have been added in <class 'sklearn.linear_model.perceptron.Perceptron'> in 0.19. If both are left unset, they default to max_iter=5 and tol=None. If tol is not None, max_iter defaults to max_iter=1000. From 0.21, default max_iter will be 1000, and default tol will be 1e-3.\n",
      "\n",
      "/Users/alexanderbaker/anaconda3/lib/python3.6/site-packages/sklearn/linear_model/stochastic_gradient.py:128: FutureWarning:\n",
      "\n",
      "max_iter and tol parameters have been added in <class 'sklearn.linear_model.perceptron.Perceptron'> in 0.19. If both are left unset, they default to max_iter=5 and tol=None. If tol is not None, max_iter defaults to max_iter=1000. From 0.21, default max_iter will be 1000, and default tol will be 1e-3.\n",
      "\n",
      "/Users/alexanderbaker/anaconda3/lib/python3.6/site-packages/sklearn/linear_model/stochastic_gradient.py:128: FutureWarning:\n",
      "\n",
      "max_iter and tol parameters have been added in <class 'sklearn.linear_model.perceptron.Perceptron'> in 0.19. If both are left unset, they default to max_iter=5 and tol=None. If tol is not None, max_iter defaults to max_iter=1000. From 0.21, default max_iter will be 1000, and default tol will be 1e-3.\n",
      "\n",
      "/Users/alexanderbaker/anaconda3/lib/python3.6/site-packages/sklearn/linear_model/stochastic_gradient.py:128: FutureWarning:\n",
      "\n",
      "max_iter and tol parameters have been added in <class 'sklearn.linear_model.perceptron.Perceptron'> in 0.19. If both are left unset, they default to max_iter=5 and tol=None. If tol is not None, max_iter defaults to max_iter=1000. From 0.21, default max_iter will be 1000, and default tol will be 1e-3.\n",
      "\n",
      "/Users/alexanderbaker/anaconda3/lib/python3.6/site-packages/sklearn/linear_model/stochastic_gradient.py:128: FutureWarning:\n",
      "\n",
      "max_iter and tol parameters have been added in <class 'sklearn.linear_model.perceptron.Perceptron'> in 0.19. If both are left unset, they default to max_iter=5 and tol=None. If tol is not None, max_iter defaults to max_iter=1000. From 0.21, default max_iter will be 1000, and default tol will be 1e-3.\n",
      "\n",
      "/Users/alexanderbaker/anaconda3/lib/python3.6/site-packages/sklearn/linear_model/stochastic_gradient.py:128: FutureWarning:\n",
      "\n",
      "max_iter and tol parameters have been added in <class 'sklearn.linear_model.perceptron.Perceptron'> in 0.19. If both are left unset, they default to max_iter=5 and tol=None. If tol is not None, max_iter defaults to max_iter=1000. From 0.21, default max_iter will be 1000, and default tol will be 1e-3.\n",
      "\n",
      "/Users/alexanderbaker/anaconda3/lib/python3.6/site-packages/sklearn/linear_model/stochastic_gradient.py:128: FutureWarning:\n",
      "\n",
      "max_iter and tol parameters have been added in <class 'sklearn.linear_model.perceptron.Perceptron'> in 0.19. If both are left unset, they default to max_iter=5 and tol=None. If tol is not None, max_iter defaults to max_iter=1000. From 0.21, default max_iter will be 1000, and default tol will be 1e-3.\n",
      "\n",
      "/Users/alexanderbaker/anaconda3/lib/python3.6/site-packages/sklearn/linear_model/stochastic_gradient.py:128: FutureWarning:\n",
      "\n",
      "max_iter and tol parameters have been added in <class 'sklearn.linear_model.perceptron.Perceptron'> in 0.19. If both are left unset, they default to max_iter=5 and tol=None. If tol is not None, max_iter defaults to max_iter=1000. From 0.21, default max_iter will be 1000, and default tol will be 1e-3.\n",
      "\n",
      "/Users/alexanderbaker/anaconda3/lib/python3.6/site-packages/sklearn/linear_model/stochastic_gradient.py:128: FutureWarning:\n",
      "\n",
      "max_iter and tol parameters have been added in <class 'sklearn.linear_model.perceptron.Perceptron'> in 0.19. If both are left unset, they default to max_iter=5 and tol=None. If tol is not None, max_iter defaults to max_iter=1000. From 0.21, default max_iter will be 1000, and default tol will be 1e-3.\n",
      "\n",
      "/Users/alexanderbaker/anaconda3/lib/python3.6/site-packages/sklearn/linear_model/stochastic_gradient.py:128: FutureWarning:\n",
      "\n",
      "max_iter and tol parameters have been added in <class 'sklearn.linear_model.perceptron.Perceptron'> in 0.19. If both are left unset, they default to max_iter=5 and tol=None. If tol is not None, max_iter defaults to max_iter=1000. From 0.21, default max_iter will be 1000, and default tol will be 1e-3.\n",
      "\n",
      "/Users/alexanderbaker/anaconda3/lib/python3.6/site-packages/sklearn/linear_model/stochastic_gradient.py:128: FutureWarning:\n",
      "\n",
      "max_iter and tol parameters have been added in <class 'sklearn.linear_model.perceptron.Perceptron'> in 0.19. If both are left unset, they default to max_iter=5 and tol=None. If tol is not None, max_iter defaults to max_iter=1000. From 0.21, default max_iter will be 1000, and default tol will be 1e-3.\n",
      "\n",
      "/Users/alexanderbaker/anaconda3/lib/python3.6/site-packages/sklearn/linear_model/stochastic_gradient.py:128: FutureWarning:\n",
      "\n",
      "max_iter and tol parameters have been added in <class 'sklearn.linear_model.perceptron.Perceptron'> in 0.19. If both are left unset, they default to max_iter=5 and tol=None. If tol is not None, max_iter defaults to max_iter=1000. From 0.21, default max_iter will be 1000, and default tol will be 1e-3.\n",
      "\n",
      "/Users/alexanderbaker/anaconda3/lib/python3.6/site-packages/sklearn/linear_model/stochastic_gradient.py:128: FutureWarning:\n",
      "\n",
      "max_iter and tol parameters have been added in <class 'sklearn.linear_model.perceptron.Perceptron'> in 0.19. If both are left unset, they default to max_iter=5 and tol=None. If tol is not None, max_iter defaults to max_iter=1000. From 0.21, default max_iter will be 1000, and default tol will be 1e-3.\n",
      "\n",
      "/Users/alexanderbaker/anaconda3/lib/python3.6/site-packages/sklearn/linear_model/stochastic_gradient.py:128: FutureWarning:\n",
      "\n",
      "max_iter and tol parameters have been added in <class 'sklearn.linear_model.perceptron.Perceptron'> in 0.19. If both are left unset, they default to max_iter=5 and tol=None. If tol is not None, max_iter defaults to max_iter=1000. From 0.21, default max_iter will be 1000, and default tol will be 1e-3.\n",
      "\n",
      "/Users/alexanderbaker/anaconda3/lib/python3.6/site-packages/sklearn/linear_model/stochastic_gradient.py:128: FutureWarning:\n",
      "\n",
      "max_iter and tol parameters have been added in <class 'sklearn.linear_model.perceptron.Perceptron'> in 0.19. If both are left unset, they default to max_iter=5 and tol=None. If tol is not None, max_iter defaults to max_iter=1000. From 0.21, default max_iter will be 1000, and default tol will be 1e-3.\n",
      "\n",
      "/Users/alexanderbaker/anaconda3/lib/python3.6/site-packages/sklearn/linear_model/stochastic_gradient.py:128: FutureWarning:\n",
      "\n",
      "max_iter and tol parameters have been added in <class 'sklearn.linear_model.perceptron.Perceptron'> in 0.19. If both are left unset, they default to max_iter=5 and tol=None. If tol is not None, max_iter defaults to max_iter=1000. From 0.21, default max_iter will be 1000, and default tol will be 1e-3.\n",
      "\n",
      "/Users/alexanderbaker/anaconda3/lib/python3.6/site-packages/sklearn/linear_model/stochastic_gradient.py:128: FutureWarning:\n",
      "\n",
      "max_iter and tol parameters have been added in <class 'sklearn.linear_model.perceptron.Perceptron'> in 0.19. If both are left unset, they default to max_iter=5 and tol=None. If tol is not None, max_iter defaults to max_iter=1000. From 0.21, default max_iter will be 1000, and default tol will be 1e-3.\n",
      "\n",
      "/Users/alexanderbaker/anaconda3/lib/python3.6/site-packages/sklearn/linear_model/stochastic_gradient.py:128: FutureWarning:\n",
      "\n",
      "max_iter and tol parameters have been added in <class 'sklearn.linear_model.perceptron.Perceptron'> in 0.19. If both are left unset, they default to max_iter=5 and tol=None. If tol is not None, max_iter defaults to max_iter=1000. From 0.21, default max_iter will be 1000, and default tol will be 1e-3.\n",
      "\n",
      "/Users/alexanderbaker/anaconda3/lib/python3.6/site-packages/sklearn/linear_model/stochastic_gradient.py:128: FutureWarning:\n",
      "\n",
      "max_iter and tol parameters have been added in <class 'sklearn.linear_model.perceptron.Perceptron'> in 0.19. If both are left unset, they default to max_iter=5 and tol=None. If tol is not None, max_iter defaults to max_iter=1000. From 0.21, default max_iter will be 1000, and default tol will be 1e-3.\n",
      "\n"
     ]
    },
    {
     "name": "stdout",
     "output_type": "stream",
     "text": [
      "0.5683060109289617\n",
      "0.5683060109289617\n",
      "0.5683060109289617\n",
      "0.5683060109289617\n",
      "0.5683060109289617\n"
     ]
    },
    {
     "name": "stderr",
     "output_type": "stream",
     "text": [
      "/Users/alexanderbaker/anaconda3/lib/python3.6/site-packages/sklearn/linear_model/stochastic_gradient.py:128: FutureWarning:\n",
      "\n",
      "max_iter and tol parameters have been added in <class 'sklearn.linear_model.perceptron.Perceptron'> in 0.19. If both are left unset, they default to max_iter=5 and tol=None. If tol is not None, max_iter defaults to max_iter=1000. From 0.21, default max_iter will be 1000, and default tol will be 1e-3.\n",
      "\n",
      "/Users/alexanderbaker/anaconda3/lib/python3.6/site-packages/sklearn/linear_model/stochastic_gradient.py:128: FutureWarning:\n",
      "\n",
      "max_iter and tol parameters have been added in <class 'sklearn.linear_model.perceptron.Perceptron'> in 0.19. If both are left unset, they default to max_iter=5 and tol=None. If tol is not None, max_iter defaults to max_iter=1000. From 0.21, default max_iter will be 1000, and default tol will be 1e-3.\n",
      "\n",
      "/Users/alexanderbaker/anaconda3/lib/python3.6/site-packages/sklearn/linear_model/stochastic_gradient.py:128: FutureWarning:\n",
      "\n",
      "max_iter and tol parameters have been added in <class 'sklearn.linear_model.perceptron.Perceptron'> in 0.19. If both are left unset, they default to max_iter=5 and tol=None. If tol is not None, max_iter defaults to max_iter=1000. From 0.21, default max_iter will be 1000, and default tol will be 1e-3.\n",
      "\n",
      "/Users/alexanderbaker/anaconda3/lib/python3.6/site-packages/sklearn/linear_model/stochastic_gradient.py:128: FutureWarning:\n",
      "\n",
      "max_iter and tol parameters have been added in <class 'sklearn.linear_model.perceptron.Perceptron'> in 0.19. If both are left unset, they default to max_iter=5 and tol=None. If tol is not None, max_iter defaults to max_iter=1000. From 0.21, default max_iter will be 1000, and default tol will be 1e-3.\n",
      "\n",
      "/Users/alexanderbaker/anaconda3/lib/python3.6/site-packages/sklearn/linear_model/stochastic_gradient.py:128: FutureWarning:\n",
      "\n",
      "max_iter and tol parameters have been added in <class 'sklearn.linear_model.perceptron.Perceptron'> in 0.19. If both are left unset, they default to max_iter=5 and tol=None. If tol is not None, max_iter defaults to max_iter=1000. From 0.21, default max_iter will be 1000, and default tol will be 1e-3.\n",
      "\n",
      "/Users/alexanderbaker/anaconda3/lib/python3.6/site-packages/sklearn/linear_model/stochastic_gradient.py:128: FutureWarning:\n",
      "\n",
      "max_iter and tol parameters have been added in <class 'sklearn.linear_model.perceptron.Perceptron'> in 0.19. If both are left unset, they default to max_iter=5 and tol=None. If tol is not None, max_iter defaults to max_iter=1000. From 0.21, default max_iter will be 1000, and default tol will be 1e-3.\n",
      "\n",
      "/Users/alexanderbaker/anaconda3/lib/python3.6/site-packages/sklearn/linear_model/stochastic_gradient.py:128: FutureWarning:\n",
      "\n",
      "max_iter and tol parameters have been added in <class 'sklearn.linear_model.perceptron.Perceptron'> in 0.19. If both are left unset, they default to max_iter=5 and tol=None. If tol is not None, max_iter defaults to max_iter=1000. From 0.21, default max_iter will be 1000, and default tol will be 1e-3.\n",
      "\n",
      "/Users/alexanderbaker/anaconda3/lib/python3.6/site-packages/sklearn/linear_model/stochastic_gradient.py:128: FutureWarning:\n",
      "\n",
      "max_iter and tol parameters have been added in <class 'sklearn.linear_model.perceptron.Perceptron'> in 0.19. If both are left unset, they default to max_iter=5 and tol=None. If tol is not None, max_iter defaults to max_iter=1000. From 0.21, default max_iter will be 1000, and default tol will be 1e-3.\n",
      "\n",
      "/Users/alexanderbaker/anaconda3/lib/python3.6/site-packages/sklearn/linear_model/stochastic_gradient.py:128: FutureWarning:\n",
      "\n",
      "max_iter and tol parameters have been added in <class 'sklearn.linear_model.perceptron.Perceptron'> in 0.19. If both are left unset, they default to max_iter=5 and tol=None. If tol is not None, max_iter defaults to max_iter=1000. From 0.21, default max_iter will be 1000, and default tol will be 1e-3.\n",
      "\n",
      "/Users/alexanderbaker/anaconda3/lib/python3.6/site-packages/sklearn/linear_model/stochastic_gradient.py:128: FutureWarning:\n",
      "\n",
      "max_iter and tol parameters have been added in <class 'sklearn.linear_model.perceptron.Perceptron'> in 0.19. If both are left unset, they default to max_iter=5 and tol=None. If tol is not None, max_iter defaults to max_iter=1000. From 0.21, default max_iter will be 1000, and default tol will be 1e-3.\n",
      "\n",
      "/Users/alexanderbaker/anaconda3/lib/python3.6/site-packages/sklearn/linear_model/stochastic_gradient.py:128: FutureWarning:\n",
      "\n",
      "max_iter and tol parameters have been added in <class 'sklearn.linear_model.perceptron.Perceptron'> in 0.19. If both are left unset, they default to max_iter=5 and tol=None. If tol is not None, max_iter defaults to max_iter=1000. From 0.21, default max_iter will be 1000, and default tol will be 1e-3.\n",
      "\n",
      "/Users/alexanderbaker/anaconda3/lib/python3.6/site-packages/sklearn/linear_model/stochastic_gradient.py:128: FutureWarning:\n",
      "\n",
      "max_iter and tol parameters have been added in <class 'sklearn.linear_model.perceptron.Perceptron'> in 0.19. If both are left unset, they default to max_iter=5 and tol=None. If tol is not None, max_iter defaults to max_iter=1000. From 0.21, default max_iter will be 1000, and default tol will be 1e-3.\n",
      "\n",
      "/Users/alexanderbaker/anaconda3/lib/python3.6/site-packages/sklearn/linear_model/stochastic_gradient.py:128: FutureWarning:\n",
      "\n",
      "max_iter and tol parameters have been added in <class 'sklearn.linear_model.perceptron.Perceptron'> in 0.19. If both are left unset, they default to max_iter=5 and tol=None. If tol is not None, max_iter defaults to max_iter=1000. From 0.21, default max_iter will be 1000, and default tol will be 1e-3.\n",
      "\n",
      "/Users/alexanderbaker/anaconda3/lib/python3.6/site-packages/sklearn/linear_model/stochastic_gradient.py:128: FutureWarning:\n",
      "\n",
      "max_iter and tol parameters have been added in <class 'sklearn.linear_model.perceptron.Perceptron'> in 0.19. If both are left unset, they default to max_iter=5 and tol=None. If tol is not None, max_iter defaults to max_iter=1000. From 0.21, default max_iter will be 1000, and default tol will be 1e-3.\n",
      "\n",
      "/Users/alexanderbaker/anaconda3/lib/python3.6/site-packages/sklearn/linear_model/stochastic_gradient.py:128: FutureWarning:\n",
      "\n",
      "max_iter and tol parameters have been added in <class 'sklearn.linear_model.perceptron.Perceptron'> in 0.19. If both are left unset, they default to max_iter=5 and tol=None. If tol is not None, max_iter defaults to max_iter=1000. From 0.21, default max_iter will be 1000, and default tol will be 1e-3.\n",
      "\n",
      "/Users/alexanderbaker/anaconda3/lib/python3.6/site-packages/sklearn/linear_model/stochastic_gradient.py:128: FutureWarning:\n",
      "\n",
      "max_iter and tol parameters have been added in <class 'sklearn.linear_model.perceptron.Perceptron'> in 0.19. If both are left unset, they default to max_iter=5 and tol=None. If tol is not None, max_iter defaults to max_iter=1000. From 0.21, default max_iter will be 1000, and default tol will be 1e-3.\n",
      "\n",
      "/Users/alexanderbaker/anaconda3/lib/python3.6/site-packages/sklearn/linear_model/stochastic_gradient.py:128: FutureWarning:\n",
      "\n",
      "max_iter and tol parameters have been added in <class 'sklearn.linear_model.perceptron.Perceptron'> in 0.19. If both are left unset, they default to max_iter=5 and tol=None. If tol is not None, max_iter defaults to max_iter=1000. From 0.21, default max_iter will be 1000, and default tol will be 1e-3.\n",
      "\n",
      "/Users/alexanderbaker/anaconda3/lib/python3.6/site-packages/sklearn/linear_model/stochastic_gradient.py:128: FutureWarning:\n",
      "\n",
      "max_iter and tol parameters have been added in <class 'sklearn.linear_model.perceptron.Perceptron'> in 0.19. If both are left unset, they default to max_iter=5 and tol=None. If tol is not None, max_iter defaults to max_iter=1000. From 0.21, default max_iter will be 1000, and default tol will be 1e-3.\n",
      "\n",
      "/Users/alexanderbaker/anaconda3/lib/python3.6/site-packages/sklearn/linear_model/stochastic_gradient.py:128: FutureWarning:\n",
      "\n",
      "max_iter and tol parameters have been added in <class 'sklearn.linear_model.perceptron.Perceptron'> in 0.19. If both are left unset, they default to max_iter=5 and tol=None. If tol is not None, max_iter defaults to max_iter=1000. From 0.21, default max_iter will be 1000, and default tol will be 1e-3.\n",
      "\n",
      "/Users/alexanderbaker/anaconda3/lib/python3.6/site-packages/sklearn/linear_model/stochastic_gradient.py:128: FutureWarning:\n",
      "\n",
      "max_iter and tol parameters have been added in <class 'sklearn.linear_model.perceptron.Perceptron'> in 0.19. If both are left unset, they default to max_iter=5 and tol=None. If tol is not None, max_iter defaults to max_iter=1000. From 0.21, default max_iter will be 1000, and default tol will be 1e-3.\n",
      "\n",
      "/Users/alexanderbaker/anaconda3/lib/python3.6/site-packages/sklearn/linear_model/stochastic_gradient.py:128: FutureWarning:\n",
      "\n",
      "max_iter and tol parameters have been added in <class 'sklearn.linear_model.perceptron.Perceptron'> in 0.19. If both are left unset, they default to max_iter=5 and tol=None. If tol is not None, max_iter defaults to max_iter=1000. From 0.21, default max_iter will be 1000, and default tol will be 1e-3.\n",
      "\n",
      "/Users/alexanderbaker/anaconda3/lib/python3.6/site-packages/sklearn/linear_model/stochastic_gradient.py:128: FutureWarning:\n",
      "\n",
      "max_iter and tol parameters have been added in <class 'sklearn.linear_model.perceptron.Perceptron'> in 0.19. If both are left unset, they default to max_iter=5 and tol=None. If tol is not None, max_iter defaults to max_iter=1000. From 0.21, default max_iter will be 1000, and default tol will be 1e-3.\n",
      "\n",
      "/Users/alexanderbaker/anaconda3/lib/python3.6/site-packages/sklearn/linear_model/stochastic_gradient.py:128: FutureWarning:\n",
      "\n",
      "max_iter and tol parameters have been added in <class 'sklearn.linear_model.perceptron.Perceptron'> in 0.19. If both are left unset, they default to max_iter=5 and tol=None. If tol is not None, max_iter defaults to max_iter=1000. From 0.21, default max_iter will be 1000, and default tol will be 1e-3.\n",
      "\n",
      "/Users/alexanderbaker/anaconda3/lib/python3.6/site-packages/sklearn/linear_model/stochastic_gradient.py:128: FutureWarning:\n",
      "\n",
      "max_iter and tol parameters have been added in <class 'sklearn.linear_model.perceptron.Perceptron'> in 0.19. If both are left unset, they default to max_iter=5 and tol=None. If tol is not None, max_iter defaults to max_iter=1000. From 0.21, default max_iter will be 1000, and default tol will be 1e-3.\n",
      "\n",
      "/Users/alexanderbaker/anaconda3/lib/python3.6/site-packages/sklearn/linear_model/stochastic_gradient.py:128: FutureWarning:\n",
      "\n",
      "max_iter and tol parameters have been added in <class 'sklearn.linear_model.perceptron.Perceptron'> in 0.19. If both are left unset, they default to max_iter=5 and tol=None. If tol is not None, max_iter defaults to max_iter=1000. From 0.21, default max_iter will be 1000, and default tol will be 1e-3.\n",
      "\n",
      "/Users/alexanderbaker/anaconda3/lib/python3.6/site-packages/sklearn/linear_model/stochastic_gradient.py:128: FutureWarning:\n",
      "\n",
      "max_iter and tol parameters have been added in <class 'sklearn.linear_model.perceptron.Perceptron'> in 0.19. If both are left unset, they default to max_iter=5 and tol=None. If tol is not None, max_iter defaults to max_iter=1000. From 0.21, default max_iter will be 1000, and default tol will be 1e-3.\n",
      "\n",
      "/Users/alexanderbaker/anaconda3/lib/python3.6/site-packages/sklearn/linear_model/stochastic_gradient.py:128: FutureWarning:\n",
      "\n",
      "max_iter and tol parameters have been added in <class 'sklearn.linear_model.perceptron.Perceptron'> in 0.19. If both are left unset, they default to max_iter=5 and tol=None. If tol is not None, max_iter defaults to max_iter=1000. From 0.21, default max_iter will be 1000, and default tol will be 1e-3.\n",
      "\n",
      "/Users/alexanderbaker/anaconda3/lib/python3.6/site-packages/sklearn/linear_model/stochastic_gradient.py:128: FutureWarning:\n",
      "\n",
      "max_iter and tol parameters have been added in <class 'sklearn.linear_model.perceptron.Perceptron'> in 0.19. If both are left unset, they default to max_iter=5 and tol=None. If tol is not None, max_iter defaults to max_iter=1000. From 0.21, default max_iter will be 1000, and default tol will be 1e-3.\n",
      "\n",
      "/Users/alexanderbaker/anaconda3/lib/python3.6/site-packages/sklearn/linear_model/stochastic_gradient.py:128: FutureWarning:\n",
      "\n",
      "max_iter and tol parameters have been added in <class 'sklearn.linear_model.perceptron.Perceptron'> in 0.19. If both are left unset, they default to max_iter=5 and tol=None. If tol is not None, max_iter defaults to max_iter=1000. From 0.21, default max_iter will be 1000, and default tol will be 1e-3.\n",
      "\n",
      "/Users/alexanderbaker/anaconda3/lib/python3.6/site-packages/sklearn/linear_model/stochastic_gradient.py:128: FutureWarning:\n",
      "\n",
      "max_iter and tol parameters have been added in <class 'sklearn.linear_model.perceptron.Perceptron'> in 0.19. If both are left unset, they default to max_iter=5 and tol=None. If tol is not None, max_iter defaults to max_iter=1000. From 0.21, default max_iter will be 1000, and default tol will be 1e-3.\n",
      "\n",
      "/Users/alexanderbaker/anaconda3/lib/python3.6/site-packages/sklearn/linear_model/stochastic_gradient.py:128: FutureWarning:\n",
      "\n",
      "max_iter and tol parameters have been added in <class 'sklearn.linear_model.perceptron.Perceptron'> in 0.19. If both are left unset, they default to max_iter=5 and tol=None. If tol is not None, max_iter defaults to max_iter=1000. From 0.21, default max_iter will be 1000, and default tol will be 1e-3.\n",
      "\n",
      "/Users/alexanderbaker/anaconda3/lib/python3.6/site-packages/sklearn/linear_model/stochastic_gradient.py:128: FutureWarning:\n",
      "\n",
      "max_iter and tol parameters have been added in <class 'sklearn.linear_model.perceptron.Perceptron'> in 0.19. If both are left unset, they default to max_iter=5 and tol=None. If tol is not None, max_iter defaults to max_iter=1000. From 0.21, default max_iter will be 1000, and default tol will be 1e-3.\n",
      "\n",
      "/Users/alexanderbaker/anaconda3/lib/python3.6/site-packages/sklearn/linear_model/stochastic_gradient.py:128: FutureWarning:\n",
      "\n",
      "max_iter and tol parameters have been added in <class 'sklearn.linear_model.perceptron.Perceptron'> in 0.19. If both are left unset, they default to max_iter=5 and tol=None. If tol is not None, max_iter defaults to max_iter=1000. From 0.21, default max_iter will be 1000, and default tol will be 1e-3.\n",
      "\n",
      "/Users/alexanderbaker/anaconda3/lib/python3.6/site-packages/sklearn/linear_model/stochastic_gradient.py:128: FutureWarning:\n",
      "\n",
      "max_iter and tol parameters have been added in <class 'sklearn.linear_model.perceptron.Perceptron'> in 0.19. If both are left unset, they default to max_iter=5 and tol=None. If tol is not None, max_iter defaults to max_iter=1000. From 0.21, default max_iter will be 1000, and default tol will be 1e-3.\n",
      "\n",
      "/Users/alexanderbaker/anaconda3/lib/python3.6/site-packages/sklearn/linear_model/stochastic_gradient.py:128: FutureWarning:\n",
      "\n",
      "max_iter and tol parameters have been added in <class 'sklearn.linear_model.perceptron.Perceptron'> in 0.19. If both are left unset, they default to max_iter=5 and tol=None. If tol is not None, max_iter defaults to max_iter=1000. From 0.21, default max_iter will be 1000, and default tol will be 1e-3.\n",
      "\n",
      "/Users/alexanderbaker/anaconda3/lib/python3.6/site-packages/sklearn/linear_model/stochastic_gradient.py:128: FutureWarning:\n",
      "\n",
      "max_iter and tol parameters have been added in <class 'sklearn.linear_model.perceptron.Perceptron'> in 0.19. If both are left unset, they default to max_iter=5 and tol=None. If tol is not None, max_iter defaults to max_iter=1000. From 0.21, default max_iter will be 1000, and default tol will be 1e-3.\n",
      "\n",
      "/Users/alexanderbaker/anaconda3/lib/python3.6/site-packages/sklearn/linear_model/stochastic_gradient.py:128: FutureWarning:\n",
      "\n",
      "max_iter and tol parameters have been added in <class 'sklearn.linear_model.perceptron.Perceptron'> in 0.19. If both are left unset, they default to max_iter=5 and tol=None. If tol is not None, max_iter defaults to max_iter=1000. From 0.21, default max_iter will be 1000, and default tol will be 1e-3.\n",
      "\n",
      "/Users/alexanderbaker/anaconda3/lib/python3.6/site-packages/sklearn/linear_model/stochastic_gradient.py:128: FutureWarning:\n",
      "\n",
      "max_iter and tol parameters have been added in <class 'sklearn.linear_model.perceptron.Perceptron'> in 0.19. If both are left unset, they default to max_iter=5 and tol=None. If tol is not None, max_iter defaults to max_iter=1000. From 0.21, default max_iter will be 1000, and default tol will be 1e-3.\n",
      "\n",
      "/Users/alexanderbaker/anaconda3/lib/python3.6/site-packages/sklearn/linear_model/stochastic_gradient.py:128: FutureWarning:\n",
      "\n",
      "max_iter and tol parameters have been added in <class 'sklearn.linear_model.perceptron.Perceptron'> in 0.19. If both are left unset, they default to max_iter=5 and tol=None. If tol is not None, max_iter defaults to max_iter=1000. From 0.21, default max_iter will be 1000, and default tol will be 1e-3.\n",
      "\n",
      "/Users/alexanderbaker/anaconda3/lib/python3.6/site-packages/sklearn/linear_model/stochastic_gradient.py:128: FutureWarning:\n",
      "\n",
      "max_iter and tol parameters have been added in <class 'sklearn.linear_model.perceptron.Perceptron'> in 0.19. If both are left unset, they default to max_iter=5 and tol=None. If tol is not None, max_iter defaults to max_iter=1000. From 0.21, default max_iter will be 1000, and default tol will be 1e-3.\n",
      "\n",
      "/Users/alexanderbaker/anaconda3/lib/python3.6/site-packages/sklearn/linear_model/stochastic_gradient.py:128: FutureWarning:\n",
      "\n",
      "max_iter and tol parameters have been added in <class 'sklearn.linear_model.perceptron.Perceptron'> in 0.19. If both are left unset, they default to max_iter=5 and tol=None. If tol is not None, max_iter defaults to max_iter=1000. From 0.21, default max_iter will be 1000, and default tol will be 1e-3.\n",
      "\n",
      "/Users/alexanderbaker/anaconda3/lib/python3.6/site-packages/sklearn/linear_model/stochastic_gradient.py:128: FutureWarning:\n",
      "\n",
      "max_iter and tol parameters have been added in <class 'sklearn.linear_model.perceptron.Perceptron'> in 0.19. If both are left unset, they default to max_iter=5 and tol=None. If tol is not None, max_iter defaults to max_iter=1000. From 0.21, default max_iter will be 1000, and default tol will be 1e-3.\n",
      "\n",
      "/Users/alexanderbaker/anaconda3/lib/python3.6/site-packages/sklearn/linear_model/stochastic_gradient.py:128: FutureWarning:\n",
      "\n",
      "max_iter and tol parameters have been added in <class 'sklearn.linear_model.perceptron.Perceptron'> in 0.19. If both are left unset, they default to max_iter=5 and tol=None. If tol is not None, max_iter defaults to max_iter=1000. From 0.21, default max_iter will be 1000, and default tol will be 1e-3.\n",
      "\n",
      "/Users/alexanderbaker/anaconda3/lib/python3.6/site-packages/sklearn/linear_model/stochastic_gradient.py:128: FutureWarning:\n",
      "\n",
      "max_iter and tol parameters have been added in <class 'sklearn.linear_model.perceptron.Perceptron'> in 0.19. If both are left unset, they default to max_iter=5 and tol=None. If tol is not None, max_iter defaults to max_iter=1000. From 0.21, default max_iter will be 1000, and default tol will be 1e-3.\n",
      "\n",
      "/Users/alexanderbaker/anaconda3/lib/python3.6/site-packages/sklearn/linear_model/stochastic_gradient.py:128: FutureWarning:\n",
      "\n",
      "max_iter and tol parameters have been added in <class 'sklearn.linear_model.perceptron.Perceptron'> in 0.19. If both are left unset, they default to max_iter=5 and tol=None. If tol is not None, max_iter defaults to max_iter=1000. From 0.21, default max_iter will be 1000, and default tol will be 1e-3.\n",
      "\n",
      "/Users/alexanderbaker/anaconda3/lib/python3.6/site-packages/sklearn/linear_model/stochastic_gradient.py:128: FutureWarning:\n",
      "\n",
      "max_iter and tol parameters have been added in <class 'sklearn.linear_model.perceptron.Perceptron'> in 0.19. If both are left unset, they default to max_iter=5 and tol=None. If tol is not None, max_iter defaults to max_iter=1000. From 0.21, default max_iter will be 1000, and default tol will be 1e-3.\n",
      "\n"
     ]
    }
   ],
   "source": [
    "# initializing and training a perceptron model\n",
    "print ('Training Precptron with standardized data')\n",
    "precptron_std_results = multi_dataset_training(Perceptron(), datasets_std, y_bin, show_median=True)\n",
    "print ('\\nTraining Precptron with non-standardized data')\n",
    "precptron_nonstd_results = multi_dataset_training(Perceptron(), datasets_nonstd, y_bin,show_median=True)"
   ]
  },
  {
   "cell_type": "code",
   "execution_count": 37,
   "metadata": {},
   "outputs": [
    {
     "name": "stdout",
     "output_type": "stream",
     "text": [
      "Training scv with standardized data\n",
      "0.8292149839111165\n",
      "0.8540161495962602\n",
      "0.8512688968490074\n",
      "0.834709489405622\n",
      "0.8292149839111165\n",
      "\n",
      "Training scv with non-standardized data\n",
      "0.5524861878453039\n",
      "0.5524861878453039\n",
      "0.5524861878453039\n",
      "0.5524861878453039\n",
      "0.5524861878453039\n"
     ]
    }
   ],
   "source": [
    "# initializing the base scv model\n",
    "print ('Training scv with standardized data')\n",
    "scv_std_results = multi_dataset_training(SVC(), datasets_std, y_bin, show_median=True)\n",
    "print ('\\nTraining scv with non-standardized data')\n",
    "scv_nonstd_results = multi_dataset_training(SVC(), datasets_nonstd, y_bin,show_median=True)"
   ]
  },
  {
   "cell_type": "code",
   "execution_count": 38,
   "metadata": {},
   "outputs": [
    {
     "name": "stdout",
     "output_type": "stream",
     "text": [
      "Training decision tree with standardized data\n",
      "0.8232044198895028\n",
      "0.8370165745856354\n",
      "0.8099690364883735\n",
      "0.8214285714285714\n",
      "0.8093922651933702\n",
      "\n",
      "Training decision tree with non-standardized data\n",
      "0.8259668508287292\n",
      "0.8209125129014632\n",
      "0.8121546961325967\n",
      "0.8264829093558375\n",
      "0.8209428692854107\n"
     ]
    }
   ],
   "source": [
    "# tree = DecisionTreeClassifier()\n",
    "# initializing the base decision tree model\n",
    "print ('Training decision tree with standardized data')\n",
    "scv_std_results = multi_dataset_training(DecisionTreeClassifier(), datasets_std, y_bin, show_median=True)\n",
    "print ('\\nTraining decision tree with non-standardized data')\n",
    "scv_nonstd_results = multi_dataset_training(DecisionTreeClassifier(), datasets_nonstd, y_bin,show_median=True)"
   ]
  },
  {
   "cell_type": "code",
   "execution_count": 9,
   "metadata": {},
   "outputs": [
    {
     "name": "stdout",
     "output_type": "stream",
     "text": [
      "Training random forest with standardized data\n",
      "0.8784530386740331\n",
      "0.8870590735231618\n",
      "0.8701657458563536\n",
      "0.8977900552486188\n",
      "0.8674033149171271\n",
      "\n",
      "Training random forest with non-standardized data\n",
      "0.8870438953311881\n",
      "0.8787414243215348\n",
      "0.8867403314917126\n",
      "0.8729281767955801\n",
      "0.8870438953311881\n"
     ]
    }
   ],
   "source": [
    "# forest = RandomForestClassifier()\n",
    "# initializing the base random forest model\n",
    "print ('Training random forest with standardized data')\n",
    "forest_std_results = multi_dataset_training(RandomForestClassifier(), datasets_std, y_bin, show_median=True)\n",
    "print ('\\nTraining random forest with non-standardized data')\n",
    "forest_nonstd_results = multi_dataset_training(RandomForestClassifier(), datasets_nonstd, y_bin,show_median=True)"
   ]
  },
  {
   "cell_type": "markdown",
   "metadata": {},
   "source": [
    "# Attempts to improve Predictive Tissue Localization\n",
    "\n",
    "In the following sections of code I am exploring methods of improving model accuracy in predicting tissue localization of cancers. In this section I am utilizing a multitude of different methods of modeling in attempt to improve the overall accuracy of this model.\n",
    "\n",
    "**Current Models being trained:**\n",
    "- Support Vector Machine\n",
    "- Perceptron\n",
    "- Decision Tree\n",
    "- Random Forest\n",
    "- Multilayer Perceptron (MLP)"
   ]
  },
  {
   "cell_type": "code",
   "execution_count": 12,
   "metadata": {
    "collapsed": true
   },
   "outputs": [],
   "source": [
    "tissue_local_features = ['AFP (pg/ml)', 'Angiopoietin-2 (pg/ml)', 'AXL (pg/ml)', 'CA-125 (U/ml)',\n",
    "       'CA 15-3 (U/ml)', 'CA19-9 (U/ml)', 'CD44 (ng/ml)', 'CEA (pg/ml)',\n",
    "       'CYFRA 21-1 (pg/ml)', 'DKK1 (ng/ml)', 'Endoglin (pg/ml)',\n",
    "       'FGF2 (pg/ml)', 'Follistatin (pg/ml)', 'Galectin-3 (ng/ml)',\n",
    "       'G-CSF (pg/ml)', 'GDF15 (ng/ml)', 'HE4 (pg/ml)', 'HGF (pg/ml)',\n",
    "       'IL-6 (pg/ml)', 'IL-8 (pg/ml)', 'Kallikrein-6 (pg/ml)',\n",
    "       'Leptin (pg/ml)', 'Mesothelin (ng/ml)', 'Midkine (pg/ml)',\n",
    "       'Myeloperoxidase (ng/ml)', 'NSE (ng/ml)', 'OPG (ng/ml)', 'OPN (pg/ml)',\n",
    "       'PAR (pg/ml)', 'Prolactin (pg/ml)', 'sEGFR (pg/ml)', 'sFas (pg/ml)',\n",
    "       'SHBG (nM)', 'sHER2/sEGFR2/sErbB2 (pg/ml)', 'sPECAM-1 (pg/ml)',\n",
    "       'TGFa (pg/ml)', 'Thrombospondin-2 (pg/ml)', 'TIMP-1 (pg/ml)',\n",
    "       'TIMP-2 (pg/ml)','Ω score']\n",
    "\n",
    "# grab the target names for Mutli-Class Classification models\n",
    "# Additionally, I am removing all of the normal cases since \n",
    "# there reported False Postive rate was 7 out of 812\n",
    "normal_remove = merged[merged['Tumor type'] != 'Normal'].sort_values(by=['Tumor encoded'])\n",
    "normal_remove = normal_remove[normal_remove['CancerSEEK Test Result'] != 'Negative']\n",
    "y_cancer = normal_remove[\"Tumor encoded\"].values\n",
    "\n",
    "# extracting of the features utilized by Cohen et al. 2018 to predict tissue localization\n",
    "cancer_data_nonstd = feature_extract(normal_remove, [tissue_local_features])\n",
    "cancer_data_std = feature_extract(normal_remove, [tissue_local_features], std=True)"
   ]
  },
  {
   "cell_type": "code",
   "execution_count": 13,
   "metadata": {},
   "outputs": [
    {
     "name": "stdout",
     "output_type": "stream",
     "text": [
      "Training scv with standardized data\n",
      "0.5403225806451613\n",
      "\n",
      "Training scv with non-standardized data\n",
      "0.4032258064516129\n"
     ]
    }
   ],
   "source": [
    "# initializing the base scv model\n",
    "print ('Training scv with standardized data')\n",
    "scv_std_results = multi_dataset_training(SVC(), cancer_data_std, y_cancer, show_median=True)\n",
    "print ('\\nTraining scv with non-standardized data')\n",
    "scv_nonstd_results = multi_dataset_training(SVC(), cancer_data_nonstd, y_cancer, show_median=True)"
   ]
  },
  {
   "cell_type": "code",
   "execution_count": 14,
   "metadata": {},
   "outputs": [
    {
     "name": "stdout",
     "output_type": "stream",
     "text": [
      "Training SGDClassifier with standardized data\n",
      "0.4526209677419355\n",
      "\n",
      "Training SGDClassifier with non-standardized data\n",
      "0.3172883064516129\n"
     ]
    },
    {
     "name": "stderr",
     "output_type": "stream",
     "text": [
      "/Users/alexanderbaker/anaconda3/lib/python3.6/site-packages/sklearn/linear_model/stochastic_gradient.py:128: FutureWarning:\n",
      "\n",
      "max_iter and tol parameters have been added in <class 'sklearn.linear_model.stochastic_gradient.SGDClassifier'> in 0.19. If both are left unset, they default to max_iter=5 and tol=None. If tol is not None, max_iter defaults to max_iter=1000. From 0.21, default max_iter will be 1000, and default tol will be 1e-3.\n",
      "\n",
      "/Users/alexanderbaker/anaconda3/lib/python3.6/site-packages/sklearn/linear_model/stochastic_gradient.py:128: FutureWarning:\n",
      "\n",
      "max_iter and tol parameters have been added in <class 'sklearn.linear_model.stochastic_gradient.SGDClassifier'> in 0.19. If both are left unset, they default to max_iter=5 and tol=None. If tol is not None, max_iter defaults to max_iter=1000. From 0.21, default max_iter will be 1000, and default tol will be 1e-3.\n",
      "\n",
      "/Users/alexanderbaker/anaconda3/lib/python3.6/site-packages/sklearn/linear_model/stochastic_gradient.py:128: FutureWarning:\n",
      "\n",
      "max_iter and tol parameters have been added in <class 'sklearn.linear_model.stochastic_gradient.SGDClassifier'> in 0.19. If both are left unset, they default to max_iter=5 and tol=None. If tol is not None, max_iter defaults to max_iter=1000. From 0.21, default max_iter will be 1000, and default tol will be 1e-3.\n",
      "\n",
      "/Users/alexanderbaker/anaconda3/lib/python3.6/site-packages/sklearn/linear_model/stochastic_gradient.py:128: FutureWarning:\n",
      "\n",
      "max_iter and tol parameters have been added in <class 'sklearn.linear_model.stochastic_gradient.SGDClassifier'> in 0.19. If both are left unset, they default to max_iter=5 and tol=None. If tol is not None, max_iter defaults to max_iter=1000. From 0.21, default max_iter will be 1000, and default tol will be 1e-3.\n",
      "\n",
      "/Users/alexanderbaker/anaconda3/lib/python3.6/site-packages/sklearn/linear_model/stochastic_gradient.py:128: FutureWarning:\n",
      "\n",
      "max_iter and tol parameters have been added in <class 'sklearn.linear_model.stochastic_gradient.SGDClassifier'> in 0.19. If both are left unset, they default to max_iter=5 and tol=None. If tol is not None, max_iter defaults to max_iter=1000. From 0.21, default max_iter will be 1000, and default tol will be 1e-3.\n",
      "\n",
      "/Users/alexanderbaker/anaconda3/lib/python3.6/site-packages/sklearn/linear_model/stochastic_gradient.py:128: FutureWarning:\n",
      "\n",
      "max_iter and tol parameters have been added in <class 'sklearn.linear_model.stochastic_gradient.SGDClassifier'> in 0.19. If both are left unset, they default to max_iter=5 and tol=None. If tol is not None, max_iter defaults to max_iter=1000. From 0.21, default max_iter will be 1000, and default tol will be 1e-3.\n",
      "\n",
      "/Users/alexanderbaker/anaconda3/lib/python3.6/site-packages/sklearn/linear_model/stochastic_gradient.py:128: FutureWarning:\n",
      "\n",
      "max_iter and tol parameters have been added in <class 'sklearn.linear_model.stochastic_gradient.SGDClassifier'> in 0.19. If both are left unset, they default to max_iter=5 and tol=None. If tol is not None, max_iter defaults to max_iter=1000. From 0.21, default max_iter will be 1000, and default tol will be 1e-3.\n",
      "\n",
      "/Users/alexanderbaker/anaconda3/lib/python3.6/site-packages/sklearn/linear_model/stochastic_gradient.py:128: FutureWarning:\n",
      "\n",
      "max_iter and tol parameters have been added in <class 'sklearn.linear_model.stochastic_gradient.SGDClassifier'> in 0.19. If both are left unset, they default to max_iter=5 and tol=None. If tol is not None, max_iter defaults to max_iter=1000. From 0.21, default max_iter will be 1000, and default tol will be 1e-3.\n",
      "\n",
      "/Users/alexanderbaker/anaconda3/lib/python3.6/site-packages/sklearn/linear_model/stochastic_gradient.py:128: FutureWarning:\n",
      "\n",
      "max_iter and tol parameters have been added in <class 'sklearn.linear_model.stochastic_gradient.SGDClassifier'> in 0.19. If both are left unset, they default to max_iter=5 and tol=None. If tol is not None, max_iter defaults to max_iter=1000. From 0.21, default max_iter will be 1000, and default tol will be 1e-3.\n",
      "\n",
      "/Users/alexanderbaker/anaconda3/lib/python3.6/site-packages/sklearn/linear_model/stochastic_gradient.py:128: FutureWarning:\n",
      "\n",
      "max_iter and tol parameters have been added in <class 'sklearn.linear_model.stochastic_gradient.SGDClassifier'> in 0.19. If both are left unset, they default to max_iter=5 and tol=None. If tol is not None, max_iter defaults to max_iter=1000. From 0.21, default max_iter will be 1000, and default tol will be 1e-3.\n",
      "\n",
      "/Users/alexanderbaker/anaconda3/lib/python3.6/site-packages/sklearn/linear_model/stochastic_gradient.py:128: FutureWarning:\n",
      "\n",
      "max_iter and tol parameters have been added in <class 'sklearn.linear_model.stochastic_gradient.SGDClassifier'> in 0.19. If both are left unset, they default to max_iter=5 and tol=None. If tol is not None, max_iter defaults to max_iter=1000. From 0.21, default max_iter will be 1000, and default tol will be 1e-3.\n",
      "\n",
      "/Users/alexanderbaker/anaconda3/lib/python3.6/site-packages/sklearn/linear_model/stochastic_gradient.py:128: FutureWarning:\n",
      "\n",
      "max_iter and tol parameters have been added in <class 'sklearn.linear_model.stochastic_gradient.SGDClassifier'> in 0.19. If both are left unset, they default to max_iter=5 and tol=None. If tol is not None, max_iter defaults to max_iter=1000. From 0.21, default max_iter will be 1000, and default tol will be 1e-3.\n",
      "\n",
      "/Users/alexanderbaker/anaconda3/lib/python3.6/site-packages/sklearn/linear_model/stochastic_gradient.py:128: FutureWarning:\n",
      "\n",
      "max_iter and tol parameters have been added in <class 'sklearn.linear_model.stochastic_gradient.SGDClassifier'> in 0.19. If both are left unset, they default to max_iter=5 and tol=None. If tol is not None, max_iter defaults to max_iter=1000. From 0.21, default max_iter will be 1000, and default tol will be 1e-3.\n",
      "\n",
      "/Users/alexanderbaker/anaconda3/lib/python3.6/site-packages/sklearn/linear_model/stochastic_gradient.py:128: FutureWarning:\n",
      "\n",
      "max_iter and tol parameters have been added in <class 'sklearn.linear_model.stochastic_gradient.SGDClassifier'> in 0.19. If both are left unset, they default to max_iter=5 and tol=None. If tol is not None, max_iter defaults to max_iter=1000. From 0.21, default max_iter will be 1000, and default tol will be 1e-3.\n",
      "\n",
      "/Users/alexanderbaker/anaconda3/lib/python3.6/site-packages/sklearn/linear_model/stochastic_gradient.py:128: FutureWarning:\n",
      "\n",
      "max_iter and tol parameters have been added in <class 'sklearn.linear_model.stochastic_gradient.SGDClassifier'> in 0.19. If both are left unset, they default to max_iter=5 and tol=None. If tol is not None, max_iter defaults to max_iter=1000. From 0.21, default max_iter will be 1000, and default tol will be 1e-3.\n",
      "\n",
      "/Users/alexanderbaker/anaconda3/lib/python3.6/site-packages/sklearn/linear_model/stochastic_gradient.py:128: FutureWarning:\n",
      "\n",
      "max_iter and tol parameters have been added in <class 'sklearn.linear_model.stochastic_gradient.SGDClassifier'> in 0.19. If both are left unset, they default to max_iter=5 and tol=None. If tol is not None, max_iter defaults to max_iter=1000. From 0.21, default max_iter will be 1000, and default tol will be 1e-3.\n",
      "\n",
      "/Users/alexanderbaker/anaconda3/lib/python3.6/site-packages/sklearn/linear_model/stochastic_gradient.py:128: FutureWarning:\n",
      "\n",
      "max_iter and tol parameters have been added in <class 'sklearn.linear_model.stochastic_gradient.SGDClassifier'> in 0.19. If both are left unset, they default to max_iter=5 and tol=None. If tol is not None, max_iter defaults to max_iter=1000. From 0.21, default max_iter will be 1000, and default tol will be 1e-3.\n",
      "\n",
      "/Users/alexanderbaker/anaconda3/lib/python3.6/site-packages/sklearn/linear_model/stochastic_gradient.py:128: FutureWarning:\n",
      "\n",
      "max_iter and tol parameters have been added in <class 'sklearn.linear_model.stochastic_gradient.SGDClassifier'> in 0.19. If both are left unset, they default to max_iter=5 and tol=None. If tol is not None, max_iter defaults to max_iter=1000. From 0.21, default max_iter will be 1000, and default tol will be 1e-3.\n",
      "\n",
      "/Users/alexanderbaker/anaconda3/lib/python3.6/site-packages/sklearn/linear_model/stochastic_gradient.py:128: FutureWarning:\n",
      "\n",
      "max_iter and tol parameters have been added in <class 'sklearn.linear_model.stochastic_gradient.SGDClassifier'> in 0.19. If both are left unset, they default to max_iter=5 and tol=None. If tol is not None, max_iter defaults to max_iter=1000. From 0.21, default max_iter will be 1000, and default tol will be 1e-3.\n",
      "\n",
      "/Users/alexanderbaker/anaconda3/lib/python3.6/site-packages/sklearn/linear_model/stochastic_gradient.py:128: FutureWarning:\n",
      "\n",
      "max_iter and tol parameters have been added in <class 'sklearn.linear_model.stochastic_gradient.SGDClassifier'> in 0.19. If both are left unset, they default to max_iter=5 and tol=None. If tol is not None, max_iter defaults to max_iter=1000. From 0.21, default max_iter will be 1000, and default tol will be 1e-3.\n",
      "\n"
     ]
    }
   ],
   "source": [
    "# initializing and training a perceptron model\n",
    "print ('Training SGDClassifier with standardized data')\n",
    "precptron_std_results = multi_dataset_training(SGDClassifier(), cancer_data_std, y_cancer, show_median=True)\n",
    "print ('\\nTraining SGDClassifier with non-standardized data')\n",
    "precptron_nonstd_results = multi_dataset_training(SGDClassifier(), cancer_data_nonstd, y_cancer, show_median=True)"
   ]
  },
  {
   "cell_type": "code",
   "execution_count": 15,
   "metadata": {},
   "outputs": [
    {
     "name": "stdout",
     "output_type": "stream",
     "text": [
      "Training decision tree with standardized data\n",
      "0.4838709677419355\n",
      "\n",
      "Training decision tree with non-standardized data\n",
      "0.47631048387096775\n"
     ]
    }
   ],
   "source": [
    "# initializing the base decision tree model\n",
    "print ('Training decision tree with standardized data')\n",
    "tree_std_results = multi_dataset_training(DecisionTreeClassifier(), cancer_data_std, y_cancer, show_median=True)\n",
    "print ('\\nTraining decision tree with non-standardized data')\n",
    "tree_nonstd_results = multi_dataset_training(DecisionTreeClassifier(), cancer_data_nonstd, y_cancer, show_median=True)"
   ]
  },
  {
   "cell_type": "code",
   "execution_count": 29,
   "metadata": {},
   "outputs": [
    {
     "name": "stdout",
     "output_type": "stream",
     "text": [
      "Training random forest with standardized data\n",
      "0.6048387096774194\n",
      "\n",
      "Training random forest with non-standardized data\n",
      "0.5846586738438952\n"
     ]
    }
   ],
   "source": [
    "# initializing the base random forest model\n",
    "print ('Training random forest with standardized data')\n",
    "forest_std_results = multi_dataset_training(RandomForestClassifier(), cancer_data_std, y_cancer, show_median=True)\n",
    "print ('\\nTraining random forest with non-standardized data')\n",
    "forest_nonstd_results = multi_dataset_training(RandomForestClassifier(), cancer_data_std, y_cancer, show_median=True)"
   ]
  },
  {
   "cell_type": "code",
   "execution_count": 17,
   "metadata": {
    "scrolled": false
   },
   "outputs": [
    {
     "name": "stdout",
     "output_type": "stream",
     "text": [
      "Training Multi-Layer Perceptron (MLP) with standardized data\n"
     ]
    },
    {
     "name": "stderr",
     "output_type": "stream",
     "text": [
      "/Users/alexanderbaker/anaconda3/lib/python3.6/site-packages/sklearn/neural_network/multilayer_perceptron.py:564: ConvergenceWarning:\n",
      "\n",
      "Stochastic Optimizer: Maximum iterations (200) reached and the optimization hasn't converged yet.\n",
      "\n",
      "/Users/alexanderbaker/anaconda3/lib/python3.6/site-packages/sklearn/neural_network/multilayer_perceptron.py:564: ConvergenceWarning:\n",
      "\n",
      "Stochastic Optimizer: Maximum iterations (200) reached and the optimization hasn't converged yet.\n",
      "\n",
      "/Users/alexanderbaker/anaconda3/lib/python3.6/site-packages/sklearn/neural_network/multilayer_perceptron.py:564: ConvergenceWarning:\n",
      "\n",
      "Stochastic Optimizer: Maximum iterations (200) reached and the optimization hasn't converged yet.\n",
      "\n",
      "/Users/alexanderbaker/anaconda3/lib/python3.6/site-packages/sklearn/neural_network/multilayer_perceptron.py:564: ConvergenceWarning:\n",
      "\n",
      "Stochastic Optimizer: Maximum iterations (200) reached and the optimization hasn't converged yet.\n",
      "\n",
      "/Users/alexanderbaker/anaconda3/lib/python3.6/site-packages/sklearn/neural_network/multilayer_perceptron.py:564: ConvergenceWarning:\n",
      "\n",
      "Stochastic Optimizer: Maximum iterations (200) reached and the optimization hasn't converged yet.\n",
      "\n",
      "/Users/alexanderbaker/anaconda3/lib/python3.6/site-packages/sklearn/neural_network/multilayer_perceptron.py:564: ConvergenceWarning:\n",
      "\n",
      "Stochastic Optimizer: Maximum iterations (200) reached and the optimization hasn't converged yet.\n",
      "\n",
      "/Users/alexanderbaker/anaconda3/lib/python3.6/site-packages/sklearn/neural_network/multilayer_perceptron.py:564: ConvergenceWarning:\n",
      "\n",
      "Stochastic Optimizer: Maximum iterations (200) reached and the optimization hasn't converged yet.\n",
      "\n",
      "/Users/alexanderbaker/anaconda3/lib/python3.6/site-packages/sklearn/neural_network/multilayer_perceptron.py:564: ConvergenceWarning:\n",
      "\n",
      "Stochastic Optimizer: Maximum iterations (200) reached and the optimization hasn't converged yet.\n",
      "\n",
      "/Users/alexanderbaker/anaconda3/lib/python3.6/site-packages/sklearn/neural_network/multilayer_perceptron.py:564: ConvergenceWarning:\n",
      "\n",
      "Stochastic Optimizer: Maximum iterations (200) reached and the optimization hasn't converged yet.\n",
      "\n",
      "/Users/alexanderbaker/anaconda3/lib/python3.6/site-packages/sklearn/neural_network/multilayer_perceptron.py:564: ConvergenceWarning:\n",
      "\n",
      "Stochastic Optimizer: Maximum iterations (200) reached and the optimization hasn't converged yet.\n",
      "\n"
     ]
    },
    {
     "name": "stdout",
     "output_type": "stream",
     "text": [
      "0.6059701492537313\n",
      "\n",
      "Training Multi-Layer Perceptron (MLP) with non-standardized data\n"
     ]
    },
    {
     "name": "stderr",
     "output_type": "stream",
     "text": [
      "/Users/alexanderbaker/anaconda3/lib/python3.6/site-packages/sklearn/neural_network/multilayer_perceptron.py:564: ConvergenceWarning:\n",
      "\n",
      "Stochastic Optimizer: Maximum iterations (200) reached and the optimization hasn't converged yet.\n",
      "\n",
      "/Users/alexanderbaker/anaconda3/lib/python3.6/site-packages/sklearn/neural_network/multilayer_perceptron.py:564: ConvergenceWarning:\n",
      "\n",
      "Stochastic Optimizer: Maximum iterations (200) reached and the optimization hasn't converged yet.\n",
      "\n",
      "/Users/alexanderbaker/anaconda3/lib/python3.6/site-packages/sklearn/neural_network/multilayer_perceptron.py:564: ConvergenceWarning:\n",
      "\n",
      "Stochastic Optimizer: Maximum iterations (200) reached and the optimization hasn't converged yet.\n",
      "\n",
      "/Users/alexanderbaker/anaconda3/lib/python3.6/site-packages/sklearn/neural_network/multilayer_perceptron.py:564: ConvergenceWarning:\n",
      "\n",
      "Stochastic Optimizer: Maximum iterations (200) reached and the optimization hasn't converged yet.\n",
      "\n",
      "/Users/alexanderbaker/anaconda3/lib/python3.6/site-packages/sklearn/neural_network/multilayer_perceptron.py:564: ConvergenceWarning:\n",
      "\n",
      "Stochastic Optimizer: Maximum iterations (200) reached and the optimization hasn't converged yet.\n",
      "\n",
      "/Users/alexanderbaker/anaconda3/lib/python3.6/site-packages/sklearn/neural_network/multilayer_perceptron.py:564: ConvergenceWarning:\n",
      "\n",
      "Stochastic Optimizer: Maximum iterations (200) reached and the optimization hasn't converged yet.\n",
      "\n",
      "/Users/alexanderbaker/anaconda3/lib/python3.6/site-packages/sklearn/neural_network/multilayer_perceptron.py:564: ConvergenceWarning:\n",
      "\n",
      "Stochastic Optimizer: Maximum iterations (200) reached and the optimization hasn't converged yet.\n",
      "\n",
      "/Users/alexanderbaker/anaconda3/lib/python3.6/site-packages/sklearn/neural_network/multilayer_perceptron.py:564: ConvergenceWarning:\n",
      "\n",
      "Stochastic Optimizer: Maximum iterations (200) reached and the optimization hasn't converged yet.\n",
      "\n",
      "/Users/alexanderbaker/anaconda3/lib/python3.6/site-packages/sklearn/neural_network/multilayer_perceptron.py:564: ConvergenceWarning:\n",
      "\n",
      "Stochastic Optimizer: Maximum iterations (200) reached and the optimization hasn't converged yet.\n",
      "\n"
     ]
    },
    {
     "name": "stdout",
     "output_type": "stream",
     "text": [
      "0.5983870967741935\n"
     ]
    },
    {
     "name": "stderr",
     "output_type": "stream",
     "text": [
      "/Users/alexanderbaker/anaconda3/lib/python3.6/site-packages/sklearn/neural_network/multilayer_perceptron.py:564: ConvergenceWarning:\n",
      "\n",
      "Stochastic Optimizer: Maximum iterations (200) reached and the optimization hasn't converged yet.\n",
      "\n"
     ]
    }
   ],
   "source": [
    "mlp = MLPClassifier()\n",
    "# intiailizing and training Multi-Layer Perceptron (MLP)\n",
    "print ('Training Multi-Layer Perceptron (MLP) with standardized data')\n",
    "mlp_std_results = multi_dataset_training(MLPClassifier(), cancer_data_std, y_cancer, show_median=True)\n",
    "print ('\\nTraining Multi-Layer Perceptron (MLP) with non-standardized data')\n",
    "mlp_nonstd_results = multi_dataset_training(MLPClassifier(), cancer_data_std, y_cancer, show_median=True)"
   ]
  },
  {
   "cell_type": "markdown",
   "metadata": {},
   "source": [
    "# Attempts to Optimize Best Performing Modelings with Dimensionality Reducing Algorithms\n",
    "\n",
    "After trying PCA and TSNE it appears that they have a negative affect on overall model accuracy. As such i am not going to pursue them any longer."
   ]
  },
  {
   "cell_type": "code",
   "execution_count": 40,
   "metadata": {
    "collapsed": true
   },
   "outputs": [],
   "source": [
    "from sklearn.manifold import TSNE\n",
    "from sklearn.decomposition import PCA"
   ]
  },
  {
   "cell_type": "code",
   "execution_count": 70,
   "metadata": {
    "collapsed": true
   },
   "outputs": [],
   "source": [
    "bin_std = PCA(n_components=8).fit_transform(datasets_std[0])\n",
    "bin_nonstd = PCA(n_components=8).fit_transform(datasets_nonstd[0])"
   ]
  },
  {
   "cell_type": "code",
   "execution_count": 72,
   "metadata": {},
   "outputs": [
    {
     "name": "stdout",
     "output_type": "stream",
     "text": [
      "Training random forest with standardized data\n",
      "0.8098779673365308\n",
      "\n",
      "Training random forest with non-standardized data\n",
      "0.7768653997935766\n",
      "Training Logistic Regression with standardized data\n",
      "0.8540161495962602\n",
      "\n",
      "Training Logistic Regression with non standardized data\n",
      "0.781767955801105\n"
     ]
    }
   ],
   "source": [
    "# initializing the Random Forest model\n",
    "print ('Training random forest with standardized data')\n",
    "forest_std_results = multi_dataset_training(RandomForestClassifier(), [bin_std], y_bin, show_median=True)\n",
    "print ('\\nTraining random forest with non-standardized data')\n",
    "forest_nonstd_results = multi_dataset_training(RandomForestClassifier(), [bin_nonstd], y_bin,show_median=True)\n",
    "# initializing the base logistic regression model\n",
    "print ('Training Logistic Regression with standardized data')\n",
    "log_reg_std_results = multi_dataset_training(LogisticRegression(), [bin_std], y_bin, show_median=True)\n",
    "print ('\\nTraining Logistic Regression with non standardized data')\n",
    "log_reg_nonstd_results = multi_dataset_training(LogisticRegression(), [bin_nonstd], y_bin, show_median=True)"
   ]
  },
  {
   "cell_type": "markdown",
   "metadata": {},
   "source": [
    "# Generating Model Metrics for Top Performing models:\n",
    "\n",
    "After retraining the origin models used by Cohen et al 2018 and training novel models I've idenified that Logistic Regression and Random Forest models perform the best (in the case of the Random Forest it performs the best in both cases). With these top performing models were going to generate a confusion matrix of their performance. A confusion matrix evaluates the quality of the output of a classification model. The diagonal elements represent the number of points for which the predicted label is equal to the true label, while off-diagonal elements are those that are mislabeled by the classifier. The higher the diagonal values of the confusion matrix the better, indicating many correct predictions. (Derived from the Scikit-Learn Confusion Matrix tutorial: http://scikit-learn.org/stable/auto_examples/model_selection/plot_confusion_matrix.html#sphx-glr-auto-examples-model-selection-plot-confusion-matrix-py)\n",
    "\n",
    "Models being Evalutated:\n",
    "- Random Forest\n",
    "- Logistic Regression"
   ]
  },
  {
   "cell_type": "code",
   "execution_count": 10,
   "metadata": {
    "collapsed": true
   },
   "outputs": [],
   "source": [
    "def plot_confusion_matrix(cm, classes, normalize=False, title='Confusion matrix', cmap=plt.cm.Blues):\n",
    "    \"\"\"\n",
    "    This function prints and plots the confusion matrix.\n",
    "    Normalization can be applied by setting `normalize=True`.\n",
    "    \"\"\"\n",
    "    if normalize:\n",
    "        cm = cm.astype('float') / cm.sum(axis=1)[:, np.newaxis]\n",
    "        print(\"Normalized confusion matrix\")\n",
    "    else:\n",
    "        print('Confusion matrix, without normalization')\n",
    "\n",
    "    print(cm)\n",
    "\n",
    "    plt.imshow(cm, interpolation='nearest', cmap=cmap)\n",
    "    plt.title(title)\n",
    "    plt.colorbar()\n",
    "    tick_marks = np.arange(len(classes))\n",
    "    plt.xticks(tick_marks, classes, rotation=45)\n",
    "    plt.yticks(tick_marks, classes)\n",
    "\n",
    "    fmt = '.2f' if normalize else 'd'\n",
    "    thresh = cm.max() / 2.\n",
    "    for i, j in itertools.product(range(cm.shape[0]), range(cm.shape[1])):\n",
    "        plt.text(j, i, format(cm[i, j], fmt),\n",
    "                 horizontalalignment=\"center\",\n",
    "                 color=\"white\" if cm[i, j] > thresh else \"black\")\n",
    "\n",
    "    plt.tight_layout()\n",
    "    plt.ylabel('True Class')\n",
    "    plt.xlabel('Predicted Class')\n",
    "\n",
    "def train_model_gen_cm(model, X, y, classes, cv_iter=10, title='Confusion matrix', figname='test-image.png'):\n",
    "    \"\"\"\n",
    "        Overview: This function is responsible for training a model with cross-validation and getting it's the\n",
    "        predictions back. With these predictions and y (data labels) a confusion matrix is generated, plotted, \n",
    "        and saved to a png file.\n",
    "        \n",
    "        Inputs:\n",
    "            - model: A scikit learn machine learning model that needs to be trained.\n",
    "            - X: a pandas dataframe or numpy array that contains all of the data features were going to use\n",
    "            to train the model.\n",
    "            - y: an array that contains the true class labels for each record in X.\n",
    "            - classes: the string label of all of the classes being trained on in the model.\n",
    "            - cv_iter: number of cross-validation iterations\n",
    "            - title: title of the confusion matrix graph\n",
    "            - figname: file name of the figure being generated\n",
    "        \n",
    "        Outputs:\n",
    "            - predicted_scores: model predictions\n",
    "            - cm: 2D Numpy array with confusion matrix values.\n",
    "    \"\"\"\n",
    "    \n",
    "    predicted_scores = cross_val_predict(model, X, y, cv=cv_iter)\n",
    "    cm = confusion_matrix(y, predicted_scores)\n",
    "    \n",
    "    plt.figure()\n",
    "    plot_confusion_matrix(cm, classes, normalize=True, title=title)\n",
    "    plt.savefig(fname=figname)\n",
    "    \n",
    "    return predicted_scores\n",
    "    "
   ]
  },
  {
   "cell_type": "code",
   "execution_count": 11,
   "metadata": {
    "collapsed": true
   },
   "outputs": [],
   "source": [
    "# extracting the basic feature datasets and creating\n",
    "basic_df_std = datasets_std[0]\n",
    "basic_df_nonstd = datasets_nonstd[0]\n",
    "# cancer_df_std = cancer_data_std[0]\n",
    "# cancer_df_nonstd = cancer_data_nonstd[0]\n",
    "\n",
    "# # grabbing the class types\n",
    "# cancer_types = normal_remove['Tumor type'].unique()\n",
    "bin_types = ['healthy', 'cancer']"
   ]
  },
  {
   "cell_type": "code",
   "execution_count": 12,
   "metadata": {},
   "outputs": [
    {
     "name": "stdout",
     "output_type": "stream",
     "text": [
      "Normalized confusion matrix\n",
      "[[0.88546798 0.11453202]\n",
      " [0.21393035 0.78606965]]\n",
      "Normalized confusion matrix\n",
      "[[0.8817734  0.1182266 ]\n",
      " [0.19900498 0.80099502]]\n",
      "Normalized confusion matrix\n",
      "[[0.87684729 0.12315271]\n",
      " [0.22686567 0.77313433]]\n",
      "Normalized confusion matrix\n",
      "[[0.24753695 0.75246305]\n",
      " [0.08159204 0.91840796]]\n"
     ]
    }
   ],
   "source": [
    "# generating confusion matrix for Logistic Regression Model\n",
    "log_reg_std_l1 = train_model_gen_cm(LogisticRegression(penalty='l1'), basic_df_std, y_bin, bin_types, title='Logistic Reg Binary Std', figname='Log-Reg-Std-l1.png')\n",
    "log_reg_nonstd_l1 = train_model_gen_cm(LogisticRegression(penalty='l1'), basic_df_nonstd, y_bin, bin_types, title='Logistic Reg Binary NonStd', figname='Log-Reg-NonStd-l1.png')\n",
    "log_reg_std_l2 = train_model_gen_cm(LogisticRegression(), basic_df_std, y_bin, bin_types, title='Logistic Reg Binary Std', figname='Log-Reg-Std-l2.png')\n",
    "log_reg_nonstd_l2 = train_model_gen_cm(LogisticRegression(), basic_df_nonstd, y_bin, bin_types, title='Logistic Reg Binary NonStd', figname='Log-Reg-NonStd-l2.png')"
   ]
  },
  {
   "cell_type": "code",
   "execution_count": 13,
   "metadata": {},
   "outputs": [
    {
     "name": "stdout",
     "output_type": "stream",
     "text": [
      "Normalized confusion matrix\n",
      "[[0.87068966 0.12931034]\n",
      " [0.13532338 0.86467662]]\n",
      "Normalized confusion matrix\n",
      "[[0.87315271 0.12684729]\n",
      " [0.13930348 0.86069652]]\n"
     ]
    }
   ],
   "source": [
    "forest_pred = train_model_gen_cm(RandomForestClassifier(), basic_df_std, y_bin, bin_types, title='Forest Binary Std', figname='Forest-Binary-Std.png')\n",
    "var = train_model_gen_cm(RandomForestClassifier(), basic_df_nonstd, y_bin, bin_types, title='Forest Binary NonStd', figname='Forest-Binary-NonStd.png')"
   ]
  },
  {
   "cell_type": "code",
   "execution_count": 24,
   "metadata": {},
   "outputs": [
    {
     "ename": "NameError",
     "evalue": "name 'cancer_df_std' is not defined",
     "output_type": "error",
     "traceback": [
      "\u001b[0;31m---------------------------------------------------------------------------\u001b[0m",
      "\u001b[0;31mNameError\u001b[0m                                 Traceback (most recent call last)",
      "\u001b[0;32m<ipython-input-24-e22e6857ec42>\u001b[0m in \u001b[0;36m<module>\u001b[0;34m()\u001b[0m\n\u001b[0;32m----> 1\u001b[0;31m \u001b[0mtrain_model_gen_cm\u001b[0m\u001b[0;34m(\u001b[0m\u001b[0mRandomForestClassifier\u001b[0m\u001b[0;34m(\u001b[0m\u001b[0;34m)\u001b[0m\u001b[0;34m,\u001b[0m \u001b[0mcancer_df_std\u001b[0m\u001b[0;34m,\u001b[0m \u001b[0my_cancer\u001b[0m\u001b[0;34m,\u001b[0m \u001b[0mcancer_types\u001b[0m\u001b[0;34m,\u001b[0m \u001b[0mtitle\u001b[0m\u001b[0;34m=\u001b[0m\u001b[0;34m'Forest Localize Std'\u001b[0m\u001b[0;34m,\u001b[0m \u001b[0mfigname\u001b[0m\u001b[0;34m=\u001b[0m\u001b[0;34m'Forest-Localize-Std.png'\u001b[0m\u001b[0;34m)\u001b[0m\u001b[0;34m\u001b[0m\u001b[0m\n\u001b[0m\u001b[1;32m      2\u001b[0m \u001b[0mtrain_model_gen_cm\u001b[0m\u001b[0;34m(\u001b[0m\u001b[0mRandomForestClassifier\u001b[0m\u001b[0;34m(\u001b[0m\u001b[0;34m)\u001b[0m\u001b[0;34m,\u001b[0m \u001b[0mcancer_df_nonstd\u001b[0m\u001b[0;34m,\u001b[0m \u001b[0my_cancer\u001b[0m\u001b[0;34m,\u001b[0m \u001b[0mcancer_types\u001b[0m\u001b[0;34m,\u001b[0m \u001b[0mtitle\u001b[0m\u001b[0;34m=\u001b[0m\u001b[0;34m'Forest Localize NonStd'\u001b[0m\u001b[0;34m,\u001b[0m \u001b[0mfigname\u001b[0m\u001b[0;34m=\u001b[0m\u001b[0;34m'Forest-Localize-NonStd.png'\u001b[0m\u001b[0;34m)\u001b[0m\u001b[0;34m\u001b[0m\u001b[0m\n",
      "\u001b[0;31mNameError\u001b[0m: name 'cancer_df_std' is not defined"
     ]
    }
   ],
   "source": [
    "train_model_gen_cm(RandomForestClassifier(), cancer_df_std, y_cancer, cancer_types, title='Forest Localize Std', figname='Forest-Localize-Std.png')\n",
    "train_model_gen_cm(RandomForestClassifier(), cancer_df_nonstd, y_cancer, cancer_types, title='Forest Localize NonStd', figname='Forest-Localize-NonStd.png')"
   ]
  },
  {
   "cell_type": "markdown",
   "metadata": {
    "collapsed": true
   },
   "source": [
    "# Performance of improved CancerSEEK Models\n",
    "\n",
    "Here i am taking the results of my initially improved models."
   ]
  },
  {
   "cell_type": "code",
   "execution_count": 14,
   "metadata": {
    "collapsed": true
   },
   "outputs": [],
   "source": [
    "merged['log_reg_pred'] = log_reg_std_l2\n",
    "merged['forets_pred'] = forest_pred"
   ]
  },
  {
   "cell_type": "code",
   "execution_count": 102,
   "metadata": {
    "collapsed": true
   },
   "outputs": [],
   "source": [
    "def accuracy_by_cancer(pred_values, true_value):\n",
    "    \"\"\"\n",
    "        Overview: This function is responsible for calculating binary classification models accuracy per\n",
    "        cancer type. We to this by adding up the correct predicitions and dividing it by the total number\n",
    "        of patients with that cancer.\n",
    "        \n",
    "        Inputs:\n",
    "            - pred_values: a list of the predicted values\n",
    "            - true_value: the correct binary classification for pred_values to be compared to\n",
    "        \n",
    "        Output:\n",
    "            - % correct: calculating the % of patients we correctly predicted.\n",
    "    \"\"\"\n",
    "    \n",
    "    correct = 0\n",
    "    total = len(pred_values)\n",
    "    \n",
    "    for rec in pred_values:\n",
    "        if rec == true_value:\n",
    "            correct += 1\n",
    "        \n",
    "    return correct / total\n",
    "\n",
    "def gen_bar_chart(x, y, df, filename, fig_title, hue_col='model', rotate=True, show_fig=True):\n",
    "    \"\"\"\n",
    "        Overview: This function is responsible for generating a bargraph and rotating the x lables 45 degrees. After\n",
    "        it generates the barplot it'll be default show the use the figure and then save the figure to file.\n",
    "        \n",
    "        Inputs:\n",
    "            - x: column name for x axis values\n",
    "            - y: column name for y axis values\n",
    "            - filename: file name for the file were generating\n",
    "            - hue_col: a string value identifying the column that the hue will be based off of.\n",
    "            - show_fig: a boolean values for determining whether or not to show the figure.\n",
    "            - rotate: a boolean value that determines whether to rotate x-axis or not.\n",
    "        \n",
    "        Outputs:\n",
    "            - a seaborn barplot is generated by this function\n",
    "    \"\"\"\n",
    "    \n",
    "    plt.figure(figsize=(8,8))\n",
    "    bar_chart = sns.barplot(x=x, y=y, hue=hue_col, data=df)\n",
    "    \n",
    "    if rotate:\n",
    "        for item in bar_chart.get_xticklabels():\n",
    "            item.set_rotation(45)\n",
    "        \n",
    "    plt.title(fig_title)\n",
    "    plt.savefig(fname=filename)\n",
    "    \n",
    "    if show_fig:\n",
    "        plt.show()\n",
    "\n",
    "def custom_groupby(df, group_col, cancers=[], pre_dev_model_accuracy=[], model_name=[], current_name='Baker'):\n",
    "    \"\"\"\n",
    "        Overview: This function is responsible for extracting accuracy of a cancer stage or type via custom groupby\n",
    "        method. We group the pandas dataframe by the column of interest (Tumor type or AJCC Stage) and then loop \n",
    "        through these groups. If the group is for healthy patients skip. This function returns a pandas dataframe\n",
    "        that contains the accuracy of logistic regression and random forest models.\n",
    "        \n",
    "        Input:\n",
    "            - df: a pandas dataframe that contains model accuracy information\n",
    "            - group_col: a string that specifies the col were running the pandas groubpy method on.\n",
    "            - cancers: this parameter allows a user to pass cancer type or stage label information for external \n",
    "              model data.\n",
    "            - pre_dev_model_accuracy: a python list contianing model accuracy's per cancer stage or type for an \n",
    "              external model\n",
    "            - model_name: a python list containing string values that label what model an accuracy comes from\n",
    "            - current_name: a string value informing us which model generated data were working with. Default value\n",
    "            is Baker because I am working with my own model.\n",
    "        \n",
    "        Output:\n",
    "            - a pandas dataframe that contains all model accuracy per groub_col unique value.\n",
    "    \"\"\"\n",
    "    log_accuracy = pre_dev_model_accuracy[:]\n",
    "    forest_accuracy = pre_dev_model_accuracy[:]\n",
    "    group = df.groupby([group_col])\n",
    "    \n",
    "    for indx, tumor_type in group:\n",
    "        \n",
    "        if 'normal' in indx.lower():\n",
    "            continue\n",
    "        \n",
    "        forest = accuracy_by_cancer(tumor_type['forets_pred'].values, 1)\n",
    "        log = accuracy_by_cancer(tumor_type['log_reg_pred'].values, 1)\n",
    "        \n",
    "        cancers.append(indx)\n",
    "        log_accuracy.append(log)\n",
    "        forest_accuracy.append(forest)\n",
    "        model_name.append(current_name)\n",
    "    \n",
    "    return pd.DataFrame.from_dict({\"Log Accuracy\": log_accuracy, 'Forest Accuracy': forest_accuracy, \n",
    "                                   group_col: cancers, 'model': model_name})\n",
    "    \n",
    "    "
   ]
  },
  {
   "cell_type": "code",
   "execution_count": 103,
   "metadata": {},
   "outputs": [],
   "source": [
    "# Providing cohen et al. 2018 model performance data from Fig 2. For comparison with personally improved model\n",
    "cohen_name = ['Cohen']\n",
    "cohen_types = ['Ovary', 'Liver','Stomach', 'Pancreas', 'Esophagus', 'Colorectum', 'Lung', 'Breast']\n",
    "cohen_types_accuracy = [0.99, 0.98, 0.72, 0.72, 0.68, 0.65, 0.58, 0.33]\n",
    "cohen_stages = ['I', 'II', 'III']\n",
    "cohen_stages_accuracy = [0.42, 0.75, 0.78]\n",
    "\n",
    "# calculating and storing accuracy by cancer type for binary classification models\n",
    "# (Logistic Regression and Random Forest) for cancer detection\n",
    "cancer_type = custom_groupby(merged, 'Tumor type', cohen_types, cohen_types_accuracy, (cohen_name * 8))\n",
    "cancer_stage = custom_groupby(merged, 'AJCC Stage', cohen_stages, cohen_stages_accuracy, (cohen_name * 3))"
   ]
  },
  {
   "cell_type": "code",
   "execution_count": 104,
   "metadata": {},
   "outputs": [
    {
     "data": {
      "text/html": [
       "<div>\n",
       "<style>\n",
       "    .dataframe thead tr:only-child th {\n",
       "        text-align: right;\n",
       "    }\n",
       "\n",
       "    .dataframe thead th {\n",
       "        text-align: left;\n",
       "    }\n",
       "\n",
       "    .dataframe tbody tr th {\n",
       "        vertical-align: top;\n",
       "    }\n",
       "</style>\n",
       "<table border=\"1\" class=\"dataframe\">\n",
       "  <thead>\n",
       "    <tr style=\"text-align: right;\">\n",
       "      <th></th>\n",
       "      <th>AJCC Stage</th>\n",
       "      <th>Forest Accuracy</th>\n",
       "      <th>Log Accuracy</th>\n",
       "      <th>model</th>\n",
       "    </tr>\n",
       "  </thead>\n",
       "  <tbody>\n",
       "    <tr>\n",
       "      <th>0</th>\n",
       "      <td>I</td>\n",
       "      <td>0.420000</td>\n",
       "      <td>0.420000</td>\n",
       "      <td>cohen</td>\n",
       "    </tr>\n",
       "    <tr>\n",
       "      <th>1</th>\n",
       "      <td>II</td>\n",
       "      <td>0.750000</td>\n",
       "      <td>0.750000</td>\n",
       "      <td>cohen</td>\n",
       "    </tr>\n",
       "    <tr>\n",
       "      <th>2</th>\n",
       "      <td>III</td>\n",
       "      <td>0.780000</td>\n",
       "      <td>0.780000</td>\n",
       "      <td>cohen</td>\n",
       "    </tr>\n",
       "    <tr>\n",
       "      <th>3</th>\n",
       "      <td>I</td>\n",
       "      <td>0.829146</td>\n",
       "      <td>0.713568</td>\n",
       "      <td>Baker</td>\n",
       "    </tr>\n",
       "    <tr>\n",
       "      <th>4</th>\n",
       "      <td>II</td>\n",
       "      <td>0.855131</td>\n",
       "      <td>0.782696</td>\n",
       "      <td>Baker</td>\n",
       "    </tr>\n",
       "    <tr>\n",
       "      <th>5</th>\n",
       "      <td>III</td>\n",
       "      <td>0.902913</td>\n",
       "      <td>0.796117</td>\n",
       "      <td>Baker</td>\n",
       "    </tr>\n",
       "  </tbody>\n",
       "</table>\n",
       "</div>"
      ],
      "text/plain": [
       "  AJCC Stage  Forest Accuracy  Log Accuracy  model\n",
       "0          I         0.420000      0.420000  cohen\n",
       "1         II         0.750000      0.750000  cohen\n",
       "2        III         0.780000      0.780000  cohen\n",
       "3          I         0.829146      0.713568  Baker\n",
       "4         II         0.855131      0.782696  Baker\n",
       "5        III         0.902913      0.796117  Baker"
      ]
     },
     "execution_count": 104,
     "metadata": {},
     "output_type": "execute_result"
    }
   ],
   "source": [
    "cancer_stage"
   ]
  },
  {
   "cell_type": "code",
   "execution_count": 105,
   "metadata": {},
   "outputs": [
    {
     "data": {
      "image/png": "[encoded data removed]",
      "text/plain": [
       "<matplotlib.figure.Figure at 0x11d4c4438>"
      ]
     },
     "metadata": {},
     "output_type": "display_data"
    }
   ],
   "source": [
    "gen_bar_chart(\"Tumor type\", \"Log Accuracy\", cancer_type,\n",
    "              'log_accuracy_types', 'Improved Cancer Detection By Type (Logistic Regression)')"
   ]
  },
  {
   "cell_type": "code",
   "execution_count": 106,
   "metadata": {},
   "outputs": [
    {
     "data": {
      "image/png": "[encoded data removed]",
      "text/plain": [
       "<matplotlib.figure.Figure at 0x11f15a630>"
      ]
     },
     "metadata": {},
     "output_type": "display_data"
    }
   ],
   "source": [
    "gen_bar_chart(\"Tumor type\", \"Forest Accuracy\", cancer_type,\n",
    "              'forest_accuracy_types', 'Improved Cancer Detection By Type (Random Forest)')"
   ]
  },
  {
   "cell_type": "code",
   "execution_count": 108,
   "metadata": {},
   "outputs": [
    {
     "data": {
      "image/png": "[encoded data removed]",
      "text/plain": [
       "<matplotlib.figure.Figure at 0x11dc85e80>"
      ]
     },
     "metadata": {},
     "output_type": "display_data"
    }
   ],
   "source": [
    "gen_bar_chart(\"AJCC Stage\", \"Log Accuracy\", cancer_stage,\n",
    "              'log_accuracy_stages', 'Improved Cancer Detection By Stage (Logistic Regression)', rotate=False)"
   ]
  },
  {
   "cell_type": "code",
   "execution_count": 109,
   "metadata": {},
   "outputs": [
    {
     "data": {
      "image/png": "[encoded data removed]",
      "text/plain": [
       "<matplotlib.figure.Figure at 0x11dbc9cf8>"
      ]
     },
     "metadata": {},
     "output_type": "display_data"
    }
   ],
   "source": [
    "gen_bar_chart(\"AJCC Stage\", \"Forest Accuracy\", cancer_stage,\n",
    "              'forest_accuracy_stages', 'Improved Cancer Detection By Stage (Random Forest)', rotate=False)"
   ]
  },
  {
   "cell_type": "code",
   "execution_count": null,
   "metadata": {
    "collapsed": true
   },
   "outputs": [],
   "source": []
  }
 ],
 "metadata": {
  "kernelspec": {
   "display_name": "Python 3",
   "language": "python",
   "name": "python3"
  },
  "language_info": {
   "codemirror_mode": {
    "name": "ipython",
    "version": 3
   },
   "file_extension": ".py",
   "mimetype": "text/x-python",
   "name": "python",
   "nbconvert_exporter": "python",
   "pygments_lexer": "ipython3",
   "version": "3.6.3"
  }
 },
 "nbformat": 4,
 "nbformat_minor": 2
}
